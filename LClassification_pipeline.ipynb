{
  "nbformat": 4,
  "nbformat_minor": 0,
  "metadata": {
    "colab": {
      "name": " LClassification_pipeline.ipynb",
      "provenance": [],
      "collapsed_sections": [],
      "machine_shape": "hm",
      "background_execution": "on",
      "authorship_tag": "ABX9TyNdRvCPSHHNtupzpJ2/r4pf",
      "include_colab_link": true
    },
    "kernelspec": {
      "name": "python3",
      "display_name": "Python 3"
    },
    "language_info": {
      "name": "python"
    },
    "accelerator": "GPU"
  },
  "cells": [
    {
      "cell_type": "markdown",
      "metadata": {
        "id": "view-in-github",
        "colab_type": "text"
      },
      "source": [
        "<a href=\"https://colab.research.google.com/github/ZeynepRuveyda/automated_classification/blob/main/LClassification_pipeline.ipynb\" target=\"_parent\"><img src=\"https://colab.research.google.com/assets/colab-badge.svg\" alt=\"Open In Colab\"/></a>"
      ]
    },
    {
      "cell_type": "code",
      "source": [
        "# Mount drive\n",
        "from google.colab import drive\n",
        "drive.mount('/content/drive')"
      ],
      "metadata": {
        "id": "AAxFPdSu1XWw",
        "colab": {
          "base_uri": "https://localhost:8080/"
        },
        "outputId": "916cc50f-8a57-4b71-b03d-da13f20ed81b"
      },
      "execution_count": null,
      "outputs": [
        {
          "output_type": "stream",
          "name": "stdout",
          "text": [
            "Mounted at /content/drive\n"
          ]
        }
      ]
    },
    {
      "cell_type": "markdown",
      "source": [
        "## Import"
      ],
      "metadata": {
        "id": "9bCg5jYNBBNB"
      }
    },
    {
      "cell_type": "code",
      "source": [
        "%%capture\n",
        "!pip install awscli"
      ],
      "metadata": {
        "id": "gRpxFyuQBRNe"
      },
      "execution_count": null,
      "outputs": []
    },
    {
      "cell_type": "code",
      "source": [
        "import awscli"
      ],
      "metadata": {
        "id": "qSBOeBUCBVD5"
      },
      "execution_count": null,
      "outputs": []
    },
    {
      "cell_type": "code",
      "source": [
        "# Import general Custom Libraries\n",
        "import tensorflow as tf\n",
        "import json\n",
        "import matplotlib.pyplot as plt\n",
        "import numpy as np\n",
        "import pandas as pd\n",
        "import cv2\n",
        "import os\n",
        "import argparse\n",
        "\n",
        "\n",
        "#Manuel dataset imports\n",
        "from pathlib import Path\n",
        "from zipfile import ZipFile\n",
        "import shutil\n",
        "from sklearn.model_selection import train_test_split\n",
        "import time\n",
        "import random\n",
        "import seaborn as sns\n",
        "import math\n",
        "import matplotlib.pyplot as plt\n",
        "import tqdm\n",
        "import inspect\n",
        "\n",
        "#Data Generator\n",
        "from keras.preprocessing.image import ImageDataGenerator\n",
        "from tensorflow.keras.utils import Sequence\n",
        "from imblearn.over_sampling import RandomOverSampler\n",
        "from imblearn.tensorflow import balanced_batch_generator\n",
        "from sklearn.model_selection import train_test_split\n",
        "\n",
        "#Model\n",
        "from tensorflow.keras.callbacks import EarlyStopping, ModelCheckpoint"
      ],
      "metadata": {
        "id": "PUUkxo3SBfyP",
        "colab": {
          "base_uri": "https://localhost:8080/"
        },
        "outputId": "cc644cf2-364d-4318-d0d3-0d531504a993"
      },
      "execution_count": null,
      "outputs": [
        {
          "output_type": "stream",
          "name": "stderr",
          "text": [
            "/usr/local/lib/python3.7/dist-packages/requests/__init__.py:91: RequestsDependencyWarning: urllib3 (1.26.8) or chardet (3.0.4) doesn't match a supported version!\n",
            "  RequestsDependencyWarning)\n"
          ]
        }
      ]
    },
    {
      "cell_type": "markdown",
      "source": [
        "## Environment variables (needs to connect with AWS/ S3)\n",
        "##### After getting access S3 and coco format jsons the following Marc-Antoine codes will be used. They were added as comment.  (Load - Extract - Merge Dataset cells ) "
      ],
      "metadata": {
        "id": "6DJMLvEvBf41"
      }
    },
    {
      "cell_type": "code",
      "source": [
        "# AWS\n"
      ],
      "metadata": {
        "id": "JnlXR4jHBldB"
      },
      "execution_count": null,
      "outputs": []
    },
    {
      "cell_type": "code",
      "source": [
        "# Data \n",
        "DATASET_DIR = \"/content/drive/MyDrive/Automated_Image_Classification/\" "
      ],
      "metadata": {
        "id": "ukb7ErFSCaLj"
      },
      "execution_count": null,
      "outputs": []
    },
    {
      "cell_type": "code",
      "source": [
        "AWS_DATASET_PATH = [\"s3://automi-data-factory/datasets/classif/test1_classif.zip\", \"s3://automi-data-factory/datasets/classif/test2_classif.zip\"]"
      ],
      "metadata": {
        "id": "PZHSa29-Bq2I"
      },
      "execution_count": null,
      "outputs": []
    },
    {
      "cell_type": "markdown",
      "source": [
        "## Load Dataset"
      ],
      "metadata": {
        "id": "qpeSW1kgCNTR"
      }
    },
    {
      "cell_type": "code",
      "source": [
        "def connectS3():\n",
        "    # Connect AWS \n",
        "    # Create Credentials string with keys and region\n",
        "    text_credentials_s3 = f'''\n",
        "    [default]\n",
        "    aws_access_key_id = {AWS_ACCESS_KEY_ID}\n",
        "    aws_secret_access_key = {AWS_SECRET_ACCESS_KEY}\n",
        "    region = {AWS_REGION}\n",
        "    '''\n",
        "    # write the credentials file with above string \n",
        "    with open(PATH_CREDENTIALS_S3, 'w') as f:\n",
        "        f.write(text_credentials_s3)\n",
        "    # export path of above file as environment variable \n",
        "    os.environ['AWS_SHARED_CREDENTIALS_FILE'] = PATH_CREDENTIALS_S3"
      ],
      "metadata": {
        "id": "pV5QcXubCRGo"
      },
      "execution_count": null,
      "outputs": []
    },
    {
      "cell_type": "code",
      "source": [
        "def loadDataset(dataset_path):\n",
        "    # Verify destination directory exist and create it otherwise\n",
        "    Path(DATASET_DIR).mkdir(exist_ok=True)\n",
        "    # Verify dataset is not already downloaded \n",
        "    dataset_name = Path(dataset_path).name\n",
        "    if not os.path.exists(Path(DATASET_DIR) / dataset_name):\n",
        "        try:\n",
        "            # Download dataset file via command line \n",
        "            os.system(f\"aws s3 cp {dataset_path} {DATASET_DIR}\")\n",
        "        except:\n",
        "            print(f'Unable to load dataset : {dataset_name}')\n",
        "        finally:\n",
        "            # Verify presence and format of file in the DATASET_DIR folder \n",
        "            assert len(list(Path(DATASET_DIR).glob(dataset_name))) == 1"
      ],
      "metadata": {
        "id": "BPAttWuiCZ0r"
      },
      "execution_count": null,
      "outputs": []
    },
    {
      "cell_type": "code",
      "source": [
        "def load_multiple_datasets(paths : list):\n",
        "  # loop over all paths \n",
        "  for path in paths:\n",
        "      # call the function which download one dataset\n",
        "      loadDataset(path)"
      ],
      "metadata": {
        "id": "vQB-4WgyCqA8"
      },
      "execution_count": null,
      "outputs": []
    },
    {
      "cell_type": "code",
      "source": [
        "def load():\n",
        "    connectS3()\n",
        "    load_multiple_datasets(AWS_DATASET_PATH)"
      ],
      "metadata": {
        "id": "K0YwuQOMDPen"
      },
      "execution_count": null,
      "outputs": []
    },
    {
      "cell_type": "code",
      "source": [
        "load()"
      ],
      "metadata": {
        "id": "VHq3lNpTDRcm"
      },
      "execution_count": null,
      "outputs": []
    },
    {
      "cell_type": "markdown",
      "source": [
        "## Extract Dataset"
      ],
      "metadata": {
        "id": "w_VjiBuAw3i7"
      }
    },
    {
      "cell_type": "code",
      "source": [
        "def unzipDataset(S3_path : Path):\n",
        "  S3_path = Path(S3_path)\n",
        "  # define path where the zip had been downloaded \n",
        "  local_path = Path(DATASET_DIR) / S3_path.name\n",
        "  # define destination path where the zip will be unarchived\n",
        "  dest_path = Path(DATASET_DIR) \n",
        "  # create destination path \n",
        "  dest_path.mkdir(exist_ok = True)\n",
        "  # unzip file via cmd line and remove zip file \n",
        "  os.system(f\"unzip {local_path} -d {dest_path} && rm -f {local_path}\")\n",
        "  # set up the dest dir with the dataset stem (name without extension)\n",
        "  dest_path = Path(DATASET_DIR)  / S3_path.stem\n",
        "  # Verify architecture \n",
        "  assert (dest_path / 'annotations').exists()\n",
        "  assert (dest_path / 'annotations' / 'instances_default.json').exists() \n",
        "  assert (dest_path / 'images').exists() \n",
        "  assert len(list((dest_path / 'images').glob('*.*'))) > 1"
      ],
      "metadata": {
        "id": "WXG9yCQ5w-4U"
      },
      "execution_count": null,
      "outputs": []
    },
    {
      "cell_type": "code",
      "source": [
        "def unzipMultipleDatasets(paths : list):\n",
        "    for path in paths:\n",
        "        # for each path passed in argument, call unzipDataset function \n",
        "        unzipDataset(path)"
      ],
      "metadata": {
        "id": "wzJhvL4FxCIv"
      },
      "execution_count": null,
      "outputs": []
    },
    {
      "cell_type": "code",
      "source": [
        "unzipMultipleDatasets(AWS_DATASET_PATH)"
      ],
      "metadata": {
        "id": "xFC07NFCxGEO"
      },
      "execution_count": null,
      "outputs": []
    },
    {
      "cell_type": "markdown",
      "source": [
        "## Merge Dataset"
      ],
      "metadata": {
        "id": "5DRhac4LxJkX"
      }
    },
    {
      "cell_type": "code",
      "source": [
        "%%capture \n",
        "!pip install pyodi"
      ],
      "metadata": {
        "id": "Or2gd4kDxOWL"
      },
      "execution_count": null,
      "outputs": []
    },
    {
      "cell_type": "code",
      "source": [
        "import json \n",
        "from pyodi.apps import coco"
      ],
      "metadata": {
        "id": "bPdCC7zrxRjv"
      },
      "execution_count": null,
      "outputs": []
    },
    {
      "cell_type": "code",
      "source": [
        "def getAllImagesWithSameNames(path_ds1, path_ds2):\n",
        "    # get list of img paths in each dataset\n",
        "    img_list_1 = (path_ds1 / 'images').glob('*.*')\n",
        "    img_list_2 = (path_ds2 / 'images').glob('*.*')\n",
        "\n",
        "    # select only img name \n",
        "    img_list_1 = [img.name for img in img_list_1]\n",
        "    img_list_2 = [img.name for img in img_list_2]\n",
        "\n",
        "    # return the intersection between both set of names \n",
        "    return list(set(img_list_1) & set(img_list_2))"
      ],
      "metadata": {
        "id": "J-oewzWDydNk"
      },
      "execution_count": null,
      "outputs": []
    },
    {
      "cell_type": "code",
      "source": [
        "def renameImages(json_path, same_images):\n",
        "    with open(json_path, \"r\") as js_fiile:\n",
        "    # get dictionnary of json file in input \n",
        "        data = json.load(js_fiile)\n",
        "        # extract list of images \n",
        "        json_list_images = data['images']\n",
        "        # find images dir \n",
        "        images_dir = Path(json_path).parents[1] / 'images'\n",
        "        # loop over images with same names \n",
        "        for image_name in same_images:\n",
        "        # loop over list of images in json file  \n",
        "            for i, json_image in enumerate(json_list_images):\n",
        "                # find the one corresponding \n",
        "                if image_name == json_image['file_name']:\n",
        "                    print(image_name)\n",
        "                    image_path = images_dir / image_name\n",
        "                    # change the name by adding \"_1\" at the end of his name \n",
        "                    name, ext = json_image['file_name'].split('.')\n",
        "                    data['images'][i]['file_name'] = \".\".join((name + '_1', ext))\n",
        "                    # rename it in his directory using \"mv\" linux command \n",
        "                    path, ext = str(image_path).rsplit('.',1)\n",
        "                    cmd = f\"mv {image_path} \" + \".\".join((path + '_1', ext))\n",
        "                    os.system(cmd)\n",
        "\n",
        "    # overwrite json file \t\t\n",
        "    with open(json_path, \"w\") as js_file:\n",
        "        json.dump(data, js_file)"
      ],
      "metadata": {
        "id": "6qeWhcZsymgu"
      },
      "execution_count": null,
      "outputs": []
    },
    {
      "cell_type": "code",
      "source": [
        "def move_after_merged(path_ds1, path_ds2, path_ds_dest):\n",
        "    # loop over both dataset path \n",
        "    for path_ds in [path_ds1, path_ds2]:\n",
        "        # loop over image of the current dataset \n",
        "        for img_path in (path_ds / 'images').glob('*.*'):\n",
        "            # copy image to the destination direction \n",
        "            cmd = f\"cp {str(img_path)} {str(path_ds_dest / 'images')}\"\n",
        "            os.system(cmd)"
      ],
      "metadata": {
        "id": "s1I3xHFvyujH"
      },
      "execution_count": null,
      "outputs": []
    },
    {
      "cell_type": "code",
      "source": [
        "def test(p1, p2, p_dest):\n",
        "    # verify all images have been merged \n",
        "    assert len(sorted((p1 / 'images').glob('*.*'))) + len(sorted((p2 / 'images').glob('*.*'))) == len(sorted((p_dest / 'images').glob('*.*')))\n",
        "\n",
        "    json1_path = str(p1 / \"annotations\" / \"instances_default.json\")\n",
        "    json2_path = str(p2/ \"annotations\" / \"instances_default.json\")\n",
        "    json_dest_path = str(p_dest / \"annotations\" / \"instances_default.json\")\n",
        "\n",
        "    # Verify all annotation have been merged \n",
        "    with open(json1_path, \"r\") as js1:\n",
        "        # get dictionnary of json file in input \n",
        "        data = json.load(js1)\n",
        "        # extract list of annotations  \n",
        "        num_anns_ds1  = len(data['annotations'])\n",
        "\n",
        "    with open(json2_path, \"r\") as js1:\n",
        "        # get dictionnary of json file in input \n",
        "        data = json.load(js1)\n",
        "        # extract list of annotations  \n",
        "        num_anns_ds2  = len(data['annotations'])\n",
        "\n",
        "\n",
        "    with open(json_dest_path, \"r\") as js1:\n",
        "        # get dictionnary of json file in input \n",
        "        data = json.load(js1)\n",
        "        # extract list of annotations  \n",
        "        num_anns_ds_dest  = len(data['annotations'])\n",
        "\n",
        "    # Verify all annotations have been merged \n",
        "    assert num_anns_ds1 + num_anns_ds2 == num_anns_ds_dest"
      ],
      "metadata": {
        "id": "bIqTfeuczF2G"
      },
      "execution_count": null,
      "outputs": []
    },
    {
      "cell_type": "code",
      "source": [
        "def merge_datasets(path_ds1, path_ds2, dest):\n",
        "    # define destination path\n",
        "    dest_path = Path(DATASET_DIR) / dest\n",
        "    # create directory and subdirectories for merge \n",
        "    dest_path.mkdir(exist_ok = True)\n",
        "    for subdir in ['images', 'labels', 'annotations']:\n",
        "        (dest_path / subdir).mkdir(exist_ok = True)\n",
        "\n",
        "    # define json paths \n",
        "    json1_path = str(path_ds1 / \"annotations\" / \"instances_default.json\")\n",
        "    json2_path = str(path_ds2 / \"annotations\" / \"instances_default.json\")\n",
        "    json_dest_path = str(dest_path / \"annotations\" / \"instances_default.json\")\n",
        "\n",
        "    # find all image with same names \n",
        "    renameImages(json2_path, getAllImagesWithSameNames(path_ds1, path_ds2))\n",
        "    # merge 2 json files using pyodi and define his output name \n",
        "    coco.coco_merge(json1_path, json2_path, json_dest_path)\n",
        "\n",
        "    move_after_merged(path_ds1, path_ds2, dest_path)\n",
        "    test(path_ds1, path_ds2, dest_path)"
      ],
      "metadata": {
        "id": "MB4AiVPjzKLl"
      },
      "execution_count": null,
      "outputs": []
    },
    {
      "cell_type": "code",
      "source": [
        "DATASET_DIR"
      ],
      "metadata": {
        "id": "3uTh2vHkzR6t",
        "colab": {
          "base_uri": "https://localhost:8080/",
          "height": 36
        },
        "outputId": "61eed5f9-806e-42e4-b3dc-07343dd55890"
      },
      "execution_count": null,
      "outputs": [
        {
          "output_type": "execute_result",
          "data": {
            "application/vnd.google.colaboratory.intrinsic+json": {
              "type": "string"
            },
            "text/plain": [
              "'/content/drive/MyDrive/Automated_Image_Classification/'"
            ]
          },
          "metadata": {},
          "execution_count": 23
        }
      ]
    },
    {
      "cell_type": "code",
      "source": [
        "DESTINATION = 'dataset'\n",
        "if len(AWS_DATASET_PATH) == 2:\n",
        "  paths = [Path(DATASET_DIR) / Path(p).stem for p in AWS_DATASET_PATH]\n",
        "  merge_datasets(*paths,DESTINATION)"
      ],
      "metadata": {
        "id": "szT7ahZ2zZEp",
        "colab": {
          "base_uri": "https://localhost:8080/"
        },
        "outputId": "f1f7de12-5e97-455d-9595-58ec0ee8b659"
      },
      "execution_count": null,
      "outputs": [
        {
          "output_type": "stream",
          "name": "stderr",
          "text": [
            "2022-03-08 13:06:36.830 | INFO     | pyodi.apps.coco.coco_merge:coco_merge:51 - Input 1: 4 images, 4 annotations\n",
            "2022-03-08 13:06:36.831 | INFO     | pyodi.apps.coco.coco_merge:coco_merge:51 - Input 2: 4 images, 4 annotations\n",
            "2022-03-08 13:06:36.832 | INFO     | pyodi.apps.coco.coco_merge:coco_merge:89 - Result: 8 images, 8 annotations\n"
          ]
        }
      ]
    },
    {
      "cell_type": "code",
      "source": [
        "AWS_DATASET_PATH"
      ],
      "metadata": {
        "colab": {
          "base_uri": "https://localhost:8080/"
        },
        "id": "916ri7PnrU3q",
        "outputId": "73f189d7-38f0-4a8a-fdcf-0c190ed2ad6c"
      },
      "execution_count": null,
      "outputs": [
        {
          "output_type": "execute_result",
          "data": {
            "text/plain": [
              "['s3://automi-data-factory/datasets/classif/test1_classif.zip',\n",
              " 's3://automi-data-factory/datasets/classif/test2_classif.zip']"
            ]
          },
          "metadata": {},
          "execution_count": 25
        }
      ]
    },
    {
      "cell_type": "markdown",
      "source": [
        "\n",
        "###### Convert from COCO to dataframe"
      ],
      "metadata": {
        "id": "BA0ZTSwhCXao"
      }
    },
    {
      "cell_type": "code",
      "source": [
        "'''import zipfile\n",
        "with zipfile.ZipFile(\"/content/drive/MyDrive/Automated_Image_Classification/Image/testfor_all_1.zip\", 'r') as zip_ref:\n",
        "    zip_ref.extractall(\"/content/\")'''"
      ],
      "metadata": {
        "id": "2hCGdYfPHUjI"
      },
      "execution_count": null,
      "outputs": []
    },
    {
      "cell_type": "code",
      "source": [
        "with open(\"/content/drive/MyDrive/Automated_Image_Classification/dataset/annotations/instances_default.json\") as json_data:\n",
        "    data = json.load(json_data)"
      ],
      "metadata": {
        "id": "bfcphjGpIj5A"
      },
      "execution_count": null,
      "outputs": []
    },
    {
      "cell_type": "code",
      "source": [
        "df_annotations = pd.DataFrame(data['annotations'])"
      ],
      "metadata": {
        "id": "yRHppAoTd-5o"
      },
      "execution_count": null,
      "outputs": []
    },
    {
      "cell_type": "code",
      "source": [
        "df_annotations.drop_duplicates(subset='image_id', keep=\"last\",inplace=True)"
      ],
      "metadata": {
        "id": "DbkCkjpLEynU"
      },
      "execution_count": null,
      "outputs": []
    },
    {
      "cell_type": "code",
      "source": [
        "labels = []\n",
        "for column_name,columnData in df_annotations['attributes'].iteritems():\n",
        "  labels.append(columnData['label'])"
      ],
      "metadata": {
        "id": "T4GW5FaKEBk2"
      },
      "execution_count": null,
      "outputs": []
    },
    {
      "cell_type": "code",
      "source": [
        "df_images = pd.DataFrame(data['images'])"
      ],
      "metadata": {
        "id": "oK2KcOVCNbQl"
      },
      "execution_count": null,
      "outputs": []
    },
    {
      "cell_type": "code",
      "source": [
        "df = pd.DataFrame({'id': df_images.file_name.to_list(), 'label': labels})"
      ],
      "metadata": {
        "id": "TaaU80AMNjwV"
      },
      "execution_count": null,
      "outputs": []
    },
    {
      "cell_type": "code",
      "source": [
        "df"
      ],
      "metadata": {
        "colab": {
          "base_uri": "https://localhost:8080/",
          "height": 300
        },
        "id": "XnZkgVUtfFoi",
        "outputId": "719a777a-84b1-4bb8-adf1-4217f176b1db"
      },
      "execution_count": null,
      "outputs": [
        {
          "output_type": "execute_result",
          "data": {
            "text/html": [
              "\n",
              "  <div id=\"df-b1ac387b-777e-4dd5-a297-ad5ebb6629dd\">\n",
              "    <div class=\"colab-df-container\">\n",
              "      <div>\n",
              "<style scoped>\n",
              "    .dataframe tbody tr th:only-of-type {\n",
              "        vertical-align: middle;\n",
              "    }\n",
              "\n",
              "    .dataframe tbody tr th {\n",
              "        vertical-align: top;\n",
              "    }\n",
              "\n",
              "    .dataframe thead th {\n",
              "        text-align: right;\n",
              "    }\n",
              "</style>\n",
              "<table border=\"1\" class=\"dataframe\">\n",
              "  <thead>\n",
              "    <tr style=\"text-align: right;\">\n",
              "      <th></th>\n",
              "      <th>id</th>\n",
              "      <th>label</th>\n",
              "    </tr>\n",
              "  </thead>\n",
              "  <tbody>\n",
              "    <tr>\n",
              "      <th>0</th>\n",
              "      <td>DSC_0601.jpg</td>\n",
              "      <td>marking</td>\n",
              "    </tr>\n",
              "    <tr>\n",
              "      <th>1</th>\n",
              "      <td>DSC_0602.jpg</td>\n",
              "      <td>marking</td>\n",
              "    </tr>\n",
              "    <tr>\n",
              "      <th>2</th>\n",
              "      <td>DSC_0618.jpg</td>\n",
              "      <td>no_marking</td>\n",
              "    </tr>\n",
              "    <tr>\n",
              "      <th>3</th>\n",
              "      <td>DSC_0624.jpg</td>\n",
              "      <td>no_marking</td>\n",
              "    </tr>\n",
              "    <tr>\n",
              "      <th>4</th>\n",
              "      <td>LISI-22-012-285476.png</td>\n",
              "      <td>marking</td>\n",
              "    </tr>\n",
              "    <tr>\n",
              "      <th>5</th>\n",
              "      <td>LISI-22-012-288481.png</td>\n",
              "      <td>no_marking</td>\n",
              "    </tr>\n",
              "    <tr>\n",
              "      <th>6</th>\n",
              "      <td>LISI-22-012-293556.png</td>\n",
              "      <td>marking</td>\n",
              "    </tr>\n",
              "    <tr>\n",
              "      <th>7</th>\n",
              "      <td>LISI-22-012-293867.png</td>\n",
              "      <td>no_marking</td>\n",
              "    </tr>\n",
              "  </tbody>\n",
              "</table>\n",
              "</div>\n",
              "      <button class=\"colab-df-convert\" onclick=\"convertToInteractive('df-b1ac387b-777e-4dd5-a297-ad5ebb6629dd')\"\n",
              "              title=\"Convert this dataframe to an interactive table.\"\n",
              "              style=\"display:none;\">\n",
              "        \n",
              "  <svg xmlns=\"http://www.w3.org/2000/svg\" height=\"24px\"viewBox=\"0 0 24 24\"\n",
              "       width=\"24px\">\n",
              "    <path d=\"M0 0h24v24H0V0z\" fill=\"none\"/>\n",
              "    <path d=\"M18.56 5.44l.94 2.06.94-2.06 2.06-.94-2.06-.94-.94-2.06-.94 2.06-2.06.94zm-11 1L8.5 8.5l.94-2.06 2.06-.94-2.06-.94L8.5 2.5l-.94 2.06-2.06.94zm10 10l.94 2.06.94-2.06 2.06-.94-2.06-.94-.94-2.06-.94 2.06-2.06.94z\"/><path d=\"M17.41 7.96l-1.37-1.37c-.4-.4-.92-.59-1.43-.59-.52 0-1.04.2-1.43.59L10.3 9.45l-7.72 7.72c-.78.78-.78 2.05 0 2.83L4 21.41c.39.39.9.59 1.41.59.51 0 1.02-.2 1.41-.59l7.78-7.78 2.81-2.81c.8-.78.8-2.07 0-2.86zM5.41 20L4 18.59l7.72-7.72 1.47 1.35L5.41 20z\"/>\n",
              "  </svg>\n",
              "      </button>\n",
              "      \n",
              "  <style>\n",
              "    .colab-df-container {\n",
              "      display:flex;\n",
              "      flex-wrap:wrap;\n",
              "      gap: 12px;\n",
              "    }\n",
              "\n",
              "    .colab-df-convert {\n",
              "      background-color: #E8F0FE;\n",
              "      border: none;\n",
              "      border-radius: 50%;\n",
              "      cursor: pointer;\n",
              "      display: none;\n",
              "      fill: #1967D2;\n",
              "      height: 32px;\n",
              "      padding: 0 0 0 0;\n",
              "      width: 32px;\n",
              "    }\n",
              "\n",
              "    .colab-df-convert:hover {\n",
              "      background-color: #E2EBFA;\n",
              "      box-shadow: 0px 1px 2px rgba(60, 64, 67, 0.3), 0px 1px 3px 1px rgba(60, 64, 67, 0.15);\n",
              "      fill: #174EA6;\n",
              "    }\n",
              "\n",
              "    [theme=dark] .colab-df-convert {\n",
              "      background-color: #3B4455;\n",
              "      fill: #D2E3FC;\n",
              "    }\n",
              "\n",
              "    [theme=dark] .colab-df-convert:hover {\n",
              "      background-color: #434B5C;\n",
              "      box-shadow: 0px 1px 3px 1px rgba(0, 0, 0, 0.15);\n",
              "      filter: drop-shadow(0px 1px 2px rgba(0, 0, 0, 0.3));\n",
              "      fill: #FFFFFF;\n",
              "    }\n",
              "  </style>\n",
              "\n",
              "      <script>\n",
              "        const buttonEl =\n",
              "          document.querySelector('#df-b1ac387b-777e-4dd5-a297-ad5ebb6629dd button.colab-df-convert');\n",
              "        buttonEl.style.display =\n",
              "          google.colab.kernel.accessAllowed ? 'block' : 'none';\n",
              "\n",
              "        async function convertToInteractive(key) {\n",
              "          const element = document.querySelector('#df-b1ac387b-777e-4dd5-a297-ad5ebb6629dd');\n",
              "          const dataTable =\n",
              "            await google.colab.kernel.invokeFunction('convertToInteractive',\n",
              "                                                     [key], {});\n",
              "          if (!dataTable) return;\n",
              "\n",
              "          const docLinkHtml = 'Like what you see? Visit the ' +\n",
              "            '<a target=\"_blank\" href=https://colab.research.google.com/notebooks/data_table.ipynb>data table notebook</a>'\n",
              "            + ' to learn more about interactive tables.';\n",
              "          element.innerHTML = '';\n",
              "          dataTable['output_type'] = 'display_data';\n",
              "          await google.colab.output.renderOutput(dataTable, element);\n",
              "          const docLink = document.createElement('div');\n",
              "          docLink.innerHTML = docLinkHtml;\n",
              "          element.appendChild(docLink);\n",
              "        }\n",
              "      </script>\n",
              "    </div>\n",
              "  </div>\n",
              "  "
            ],
            "text/plain": [
              "                       id       label\n",
              "0            DSC_0601.jpg     marking\n",
              "1            DSC_0602.jpg     marking\n",
              "2            DSC_0618.jpg  no_marking\n",
              "3            DSC_0624.jpg  no_marking\n",
              "4  LISI-22-012-285476.png     marking\n",
              "5  LISI-22-012-288481.png  no_marking\n",
              "6  LISI-22-012-293556.png     marking\n",
              "7  LISI-22-012-293867.png  no_marking"
            ]
          },
          "metadata": {},
          "execution_count": 32
        }
      ]
    },
    {
      "cell_type": "markdown",
      "source": [
        "## Split Dataset"
      ],
      "metadata": {
        "id": "54fGcPqSOM_U"
      }
    },
    {
      "cell_type": "code",
      "source": [
        "def test_train_split(df_dir):\n",
        "    df = pd.read_csv(df_dir)\n",
        "    train_df, test_df = train_test_split(df, test_size=0.1)\n",
        "    parent = Path(df_dir).parent\n",
        "    train_df_path = os.path.join(os.path.expanduser('~'), parent, 'TRAIN_DF.csv')\n",
        "    test_df_path = os.path.join(os.path.expanduser('~'), parent, 'TEST_DF.csv')\n",
        "    train_df.to_csv(train_df_path, index=False)\n",
        "    test_df.to_csv(test_df_path, index=False)\n",
        "    return train_df, test_df"
      ],
      "metadata": {
        "id": "_kjE017pOJDe"
      },
      "execution_count": null,
      "outputs": []
    },
    {
      "cell_type": "code",
      "source": [
        "# Extracting data from zip\n",
        "train_df,test_df,path_all_images = create_dataset('/content/drive/MyDrive/Automated_Image_Classification/Image/Data.zip')\n"
      ],
      "metadata": {
        "id": "okdNHQnwCHiP",
        "colab": {
          "base_uri": "https://localhost:8080/"
        },
        "outputId": "a2106e81-e776-4260-ac36-24daeaf50b63"
      },
      "execution_count": null,
      "outputs": [
        {
          "output_type": "stream",
          "name": "stdout",
          "text": [
            "Found 2 different class folders. If you have more than 2 nm_classes you should split your images as different folders in zip file.\n"
          ]
        }
      ]
    },
    {
      "cell_type": "code",
      "source": [
        "# train evaluation data splitting\n",
        "train_df, eval_df = train_test_split(train_df, test_size=0.2)"
      ],
      "metadata": {
        "id": "w0FIt0QSeZYf"
      },
      "execution_count": null,
      "outputs": []
    },
    {
      "cell_type": "markdown",
      "source": [
        "## Balance Dataset\n",
        "\n",
        "** add if statement for balance and not balance dataset **"
      ],
      "metadata": {
        "id": "uDW1idygNssz"
      }
    },
    {
      "cell_type": "code",
      "source": [
        "# balance checking\n",
        "def balance_check(train_df):\n",
        "    counts = train_df.label.value_counts()\n",
        "    count_dict = counts.to_dict()\n",
        "    list_count = list(count_dict.values())\n",
        "    if all(x == list_count[0] for x in list_count) == False:\n",
        "        print(\"Training data is not balance.\")\n",
        "        time.sleep(3.0)\n",
        "        return False\n",
        "    else:\n",
        "        print(\"Training data is balance.\")\n",
        "        return True"
      ],
      "metadata": {
        "id": "tKnTt9h4OTz5"
      },
      "execution_count": null,
      "outputs": []
    },
    {
      "cell_type": "code",
      "source": [
        "balance = balance_check(train_df)"
      ],
      "metadata": {
        "colab": {
          "base_uri": "https://localhost:8080/"
        },
        "id": "nGkNpo-uXqgy",
        "outputId": "3c22bbbe-b7eb-4b4b-b105-7dcb856706cb"
      },
      "execution_count": null,
      "outputs": [
        {
          "output_type": "stream",
          "name": "stdout",
          "text": [
            "Training data is not balance.\n"
          ]
        }
      ]
    },
    {
      "cell_type": "code",
      "source": [
        "# class weight for balance\n",
        "\n",
        "def create_class_weight(labels_dict, n_classes):\n",
        "    total = np.sum(list(labels_dict.values()))\n",
        "    keys = labels_dict.keys()\n",
        "    class_weight = dict()\n",
        "    #x = 0\n",
        "    for idx, key in enumerate(keys):\n",
        "        y = labels_dict[key]\n",
        "        score = (total / n_classes) * (1/y)\n",
        "        class_weight[idx] = score\n",
        "        #x += 1\n",
        "    return class_weight"
      ],
      "metadata": {
        "id": "WWJ29-Y8fKj7"
      },
      "execution_count": null,
      "outputs": []
    },
    {
      "cell_type": "code",
      "source": [
        "# find class weigths for balancing\n",
        "counts = train_df.label.value_counts()\n",
        "count_dict = counts.to_dict()\n",
        "nm_classes = len(train_df.label.unique().tolist())\n",
        "class_weights = create_class_weight(count_dict,nm_classes)"
      ],
      "metadata": {
        "id": "ZoM5xpyFa7JC"
      },
      "execution_count": null,
      "outputs": []
    },
    {
      "cell_type": "code",
      "source": [
        "#random oversampling for balance\n",
        "\n",
        "def random_over_sampling(train_df, all_image_path):\n",
        "    train_df.reset_index(drop=True, inplace=True)\n",
        "    index = train_df.index\n",
        "    counts = train_df.label.value_counts()\n",
        "    count_dict = counts.to_dict()\n",
        "    max_class = max(count_dict.values())\n",
        "    max_key = max(count_dict, key=count_dict.get)\n",
        "    count_dict.pop(max_key)\n",
        "    names = []\n",
        "    labels = []\n",
        "    for key, value in count_dict.items():\n",
        "        dif = max_class - value\n",
        "        label_ind = list(index[train_df[\"label\"] == key])\n",
        "        if len(label_ind) < dif:\n",
        "            inds = random.choices(label_ind, k=dif)\n",
        "            j = 0\n",
        "            for i in inds:\n",
        "                sample = train_df.iloc[i]\n",
        "                names.append(str(j) + '_copy_' + sample['id'])\n",
        "                labels.append((sample['label']))\n",
        "                im = cv2.imread(os.path.join(os.path.expanduser('~'), all_image_path, sample['id']))\n",
        "                cv2.imwrite(os.path.join(os.path.expanduser('~'), all_image_path, str(j) + '_copy_' + sample['id']), im)\n",
        "                j = j + 1\n",
        "        else:\n",
        "            inds = random.sample(label_ind, dif)\n",
        "\n",
        "            for i in inds:\n",
        "                sample = train_df.iloc[i]\n",
        "                names.append('copy_' + sample['id'])\n",
        "                labels.append((sample['label']))\n",
        "                im = cv2.imread(os.path.join(os.path.expanduser('~'), all_image_path, sample['id']), -1)\n",
        "                cv2.imwrite(os.path.join(os.path.expanduser('~'), all_image_path, 'copy_' + sample['id']), im)\n",
        "\n",
        "    new_names = list(train_df.id) + names\n",
        "    new_labels = list(train_df.label) + labels\n",
        "    new_train_df = pd.DataFrame({'id': new_names, 'label': new_labels})\n",
        "    parent = Path(all_image_path).parent\n",
        "    path_csv = os.path.join(os.path.expanduser('~'), parent, 'TRAIN_DF.csv')\n",
        "    new_train_df.to_csv(path_csv, index=False)\n",
        "\n",
        "    return new_train_df"
      ],
      "metadata": {
        "id": "29X1aSlzfunS"
      },
      "execution_count": null,
      "outputs": []
    },
    {
      "cell_type": "code",
      "source": [
        "# random over sampling for balancing\n",
        "if balance == False :\n",
        "  print(\"Class distribution : %s ,Balancing process is started.\" % (count_dict))\n",
        "  train_df = random_over_sampling(train_df,path_all_images)\n",
        "  counts = train_df.label.value_counts()\n",
        "  count_dict = counts.to_dict()\n",
        "  print(\"Class distribution : %s ,Data made balance.\" % (count_dict))\n"
      ],
      "metadata": {
        "colab": {
          "base_uri": "https://localhost:8080/"
        },
        "id": "yBCq4m-gYG8i",
        "outputId": "efd9656f-4547-491d-eef9-c0bd366b5674"
      },
      "execution_count": null,
      "outputs": [
        {
          "output_type": "stream",
          "name": "stdout",
          "text": [
            "Class distribution : {'No T': 159, 'T': 60} ,Balancing process is started.\n",
            "Class distribution : {'No T': 159, 'T': 159} ,Data made balance.\n"
          ]
        }
      ]
    },
    {
      "cell_type": "markdown",
      "source": [
        "## Data Generator"
      ],
      "metadata": {
        "id": "aY1_AvITgTAd"
      }
    },
    {
      "cell_type": "code",
      "source": [
        "class CustomDataGenerator:\n",
        "\n",
        "    def __init__(self, images_folder_dir, test_df, train_df, eval_df, batch_size, target_size):\n",
        "        self.images_folder_dir = images_folder_dir\n",
        "        self.test_df = test_df\n",
        "        self.train_df = train_df\n",
        "        self.eval_df = eval_df\n",
        "        self.batch_size = batch_size\n",
        "        self.target_size = target_size\n",
        "\n",
        "    def data_generator(self):\n",
        "        with tf.device('/device:GPU:0'):\n",
        "            train_datagen = ImageDataGenerator(\n",
        "                rescale=1. / 255,\n",
        "                rotation_range=40,\n",
        "                width_shift_range=0.2,\n",
        "                height_shift_range=0.2,\n",
        "                shear_range=0.2,\n",
        "                zoom_range=0.2,\n",
        "                horizontal_flip=True,\n",
        "                fill_mode='nearest'\n",
        "            )\n",
        "            val_datagen = ImageDataGenerator(\n",
        "                rescale=1. / 255\n",
        "            )\n",
        "            print(\"Test Dataset : \")\n",
        "            test_generator = val_datagen.flow_from_dataframe(\n",
        "                dataframe=self.test_df,\n",
        "                directory=self.images_folder_dir,\n",
        "                x_col=\"id\",\n",
        "                y_col=\"label\",\n",
        "                target_size=self.target_size,\n",
        "                batch_size=self.batch_size,\n",
        "                shuffle=False,\n",
        "                class_mode=\"categorical\"\n",
        "            )\n",
        "            print(\"Validation Dataset : \")\n",
        "            val_generator = val_datagen.flow_from_dataframe(\n",
        "\n",
        "                dataframe=self.eval_df,\n",
        "                directory=self.images_folder_dir,\n",
        "                x_col=\"id\",\n",
        "                y_col=\"label\",\n",
        "                target_size=self.target_size,\n",
        "                batch_size=self.batch_size,\n",
        "                shuffle=True,\n",
        "                seed=42,\n",
        "                class_mode=\"categorical\"\n",
        "            )\n",
        "            print(\"Training Dataset : \")\n",
        "            train_generator = train_datagen.flow_from_dataframe(\n",
        "                dataframe=self.train_df,\n",
        "                directory=self.images_folder_dir,\n",
        "                x_col=\"id\",\n",
        "                y_col=\"label\",\n",
        "                target_size=self.target_size,\n",
        "                batch_size=self.batch_size,\n",
        "                shuffle=True,\n",
        "                seed=42,\n",
        "                class_mode=\"categorical\"\n",
        "            )\n",
        "            return train_generator, val_generator, test_generator\n"
      ],
      "metadata": {
        "id": "ao9THaq8gmFQ"
      },
      "execution_count": null,
      "outputs": []
    },
    {
      "cell_type": "code",
      "source": [
        "# Creating custom data generator child from class\n",
        "custom_data = CustomDataGenerator(path_all_images,test_df,train_df,eval_df,32,(224,224))"
      ],
      "metadata": {
        "id": "Se4xtEaBBbKC"
      },
      "execution_count": null,
      "outputs": []
    },
    {
      "cell_type": "code",
      "source": [
        "# Checking balance and creating training,eval,test generators, then creating class weights\n",
        "train_generator,val_generator,test_generator = custom_data.data_generator()"
      ],
      "metadata": {
        "id": "inEwXyYqDRDi",
        "colab": {
          "base_uri": "https://localhost:8080/"
        },
        "outputId": "74c12775-c4a8-4505-ede0-374a258da2a9"
      },
      "execution_count": null,
      "outputs": [
        {
          "output_type": "stream",
          "name": "stdout",
          "text": [
            "Test Dataset : \n",
            "Found 31 validated image filenames belonging to 2 classes.\n",
            "Validation Dataset : \n",
            "Found 55 validated image filenames belonging to 2 classes.\n",
            "Training Dataset : \n",
            "Found 318 validated image filenames belonging to 2 classes.\n"
          ]
        }
      ]
    },
    {
      "cell_type": "markdown",
      "source": [
        "<a id='m'></a>\n",
        "## Modeling and Selection"
      ],
      "metadata": {
        "id": "EAfPmemWD7Qf"
      }
    },
    {
      "cell_type": "markdown",
      "source": [
        "***Do you want see all benchmarking of all classification architectures?*** \n",
        "Call benchmarking function and see the result. Then you can choose your final architecture for fine tunning. If you do not want use benchmarking you can directly create model from Custom_Model class then you can apply fine tuning.\n",
        "\n",
        "** add if statement for benchmarking **\n"
      ],
      "metadata": {
        "id": "U9ydljxhCqcw"
      }
    },
    {
      "cell_type": "code",
      "source": [
        "class Custom_Model():\n",
        "    def __init__(self, model_name,im_size,nm_classes):\n",
        "\n",
        "        # define all layers in init\n",
        "        self.IMG_SHAPE = im_size + (3,)\n",
        "        self.model_name = model_name\n",
        "        self.nm_classes = nm_classes\n",
        "        self.dense = tf.keras.layers.Dense(self.nm_classes, activation = 'sigmoid')\n",
        "        self.flat = tf.keras.layers.Flatten(name=\"flatten\")\n",
        "        self.model_dictionary = {m[0]: m[1] for m in inspect.getmembers(tf.keras.applications, inspect.isfunction)}\n",
        "        self.base_model = self.model_dictionary[self.model_name](input_shape=self.IMG_SHAPE, include_top=False,\n",
        "                                                                 weights='imagenet')\n",
        "        self.base_model.trainable = False\n",
        "        self.global_average_layer = tf.keras.layers.GlobalAveragePooling2D()\n",
        "        self.dropout = tf.keras.layers.Dropout(0.2)\n",
        "\n",
        "    def forward(self):\n",
        "        input_ = tf.keras.Input(shape=self.IMG_SHAPE)\n",
        "        x = self.base_model(input_,training=False)\n",
        "        x = self.global_average_layer(x)\n",
        "        #x = self.dropout(x)\n",
        "        outputs = self.dense(x)\n",
        "        model = tf.keras.Model(input_,outputs)\n",
        "        \n",
        "        return model"
      ],
      "metadata": {
        "id": "iHPze7-8i4tV"
      },
      "execution_count": null,
      "outputs": []
    },
    {
      "cell_type": "code",
      "source": [
        "def model_selection(train_generator,validation_generator,im_size,nm_classes):\n",
        "    model_dictionary = {m[0]: m[1] for m in inspect.getmembers(tf.keras.applications, inspect.isfunction)}\n",
        "    model_dictionary.pop('NASNetLarge')\n",
        "    model_benchmarks = {'model_name': [], 'num_model_params': [] ,'validation_accuracy': []}\n",
        "    for model_name, model in tqdm(model_dictionary.items()):\n",
        "\n",
        "        model_ = Custom_Model(model_name,im_size,nm_classes)\n",
        "        # custom modifications on top of pre-trained model\n",
        "        model_ = model_.forward()\n",
        "        base_learning_rate = 0.0001\n",
        "        model_.compile(optimizer=tf.keras.optimizers.Adam(learning_rate=base_learning_rate),\n",
        "                      loss='binary_crossentropy',\n",
        "                      metrics=['accuracy'])\n",
        "        history = model_.fit(train_generator, epochs=3, validation_data=validation_generator,)\n",
        "\n",
        "        model_benchmarks['model_name'].append(model_name)\n",
        "        model_benchmarks['num_model_params'].append(model_.count_params())\n",
        "        model_benchmarks['validation_accuracy'].append(history.history['val_accuracy'][-1])\n",
        "        benchmark_df = pd.DataFrame(model_benchmarks)\n",
        "        benchmark_df.to_csv('benchmark_df.csv', index=False)  # write results to csv file\n",
        "\n",
        "    return benchmark_df"
      ],
      "metadata": {
        "id": "L98wP-PciLSf"
      },
      "execution_count": null,
      "outputs": []
    },
    {
      "cell_type": "code",
      "source": [
        "#Training all models\n",
        "benchmark_df = model_selection(train_generator,val_generator,(224,224),nm_classes)"
      ],
      "metadata": {
        "colab": {
          "base_uri": "https://localhost:8080/"
        },
        "id": "ypScPOsKFtnc",
        "outputId": "d861436b-30c7-46cd-a722-c6a9f454ec07"
      },
      "execution_count": null,
      "outputs": [
        {
          "output_type": "stream",
          "name": "stderr",
          "text": [
            "\r  0%|          | 0/34 [00:00<?, ?it/s]"
          ]
        },
        {
          "output_type": "stream",
          "name": "stdout",
          "text": [
            "Downloading data from https://storage.googleapis.com/tensorflow/keras-applications/densenet/densenet121_weights_tf_dim_ordering_tf_kernels_notop.h5\n",
            "29089792/29084464 [==============================] - 0s 0us/step\n",
            "29097984/29084464 [==============================] - 0s 0us/step\n",
            "Epoch 1/3\n",
            "10/10 [==============================] - 23s 827ms/step - loss: 0.7671 - accuracy: 0.4403 - val_loss: 0.7561 - val_accuracy: 0.4545\n",
            "Epoch 2/3\n",
            "10/10 [==============================] - 6s 567ms/step - loss: 0.7274 - accuracy: 0.4874 - val_loss: 0.7267 - val_accuracy: 0.5091\n",
            "Epoch 3/3\n",
            "10/10 [==============================] - 6s 569ms/step - loss: 0.6924 - accuracy: 0.5975 - val_loss: 0.6959 - val_accuracy: 0.5455\n"
          ]
        },
        {
          "output_type": "stream",
          "name": "stderr",
          "text": [
            "\r  3%|▎         | 1/34 [00:39<21:48, 39.64s/it]"
          ]
        },
        {
          "output_type": "stream",
          "name": "stdout",
          "text": [
            "Downloading data from https://storage.googleapis.com/tensorflow/keras-applications/densenet/densenet169_weights_tf_dim_ordering_tf_kernels_notop.h5\n",
            "51879936/51877672 [==============================] - 0s 0us/step\n",
            "51888128/51877672 [==============================] - 0s 0us/step\n",
            "Epoch 1/3\n",
            "10/10 [==============================] - 16s 840ms/step - loss: 0.6031 - accuracy: 0.8270 - val_loss: 0.5626 - val_accuracy: 0.8000\n",
            "Epoch 2/3\n",
            "10/10 [==============================] - 6s 566ms/step - loss: 0.5586 - accuracy: 0.8836 - val_loss: 0.5012 - val_accuracy: 0.8182\n",
            "Epoch 3/3\n",
            "10/10 [==============================] - 6s 563ms/step - loss: 0.5321 - accuracy: 0.9057 - val_loss: 0.4604 - val_accuracy: 0.8909\n"
          ]
        },
        {
          "output_type": "stream",
          "name": "stderr",
          "text": [
            "\r  6%|▌         | 2/34 [01:12<19:04, 35.76s/it]"
          ]
        },
        {
          "output_type": "stream",
          "name": "stdout",
          "text": [
            "Downloading data from https://storage.googleapis.com/tensorflow/keras-applications/densenet/densenet201_weights_tf_dim_ordering_tf_kernels_notop.h5\n",
            "74842112/74836368 [==============================] - 0s 0us/step\n",
            "74850304/74836368 [==============================] - 0s 0us/step\n",
            "Epoch 1/3\n",
            "10/10 [==============================] - 18s 904ms/step - loss: 0.7900 - accuracy: 0.3711 - val_loss: 0.8027 - val_accuracy: 0.3273\n",
            "Epoch 2/3\n",
            "10/10 [==============================] - 6s 567ms/step - loss: 0.7484 - accuracy: 0.4214 - val_loss: 0.7635 - val_accuracy: 0.3455\n",
            "Epoch 3/3\n",
            "10/10 [==============================] - 6s 580ms/step - loss: 0.6965 - accuracy: 0.5440 - val_loss: 0.7394 - val_accuracy: 0.3818\n"
          ]
        },
        {
          "output_type": "stream",
          "name": "stderr",
          "text": [
            "\r  9%|▉         | 3/34 [01:49<18:36, 36.03s/it]"
          ]
        },
        {
          "output_type": "stream",
          "name": "stdout",
          "text": [
            "Downloading data from https://storage.googleapis.com/keras-applications/efficientnetb0_notop.h5\n",
            "16711680/16705208 [==============================] - 0s 0us/step\n",
            "16719872/16705208 [==============================] - 0s 0us/step\n",
            "Epoch 1/3\n",
            "10/10 [==============================] - 12s 696ms/step - loss: 0.6936 - accuracy: 0.4748 - val_loss: 0.6960 - val_accuracy: 0.1818\n",
            "Epoch 2/3\n",
            "10/10 [==============================] - 6s 567ms/step - loss: 0.6934 - accuracy: 0.5000 - val_loss: 0.6974 - val_accuracy: 0.1818\n",
            "Epoch 3/3\n",
            "10/10 [==============================] - 6s 572ms/step - loss: 0.6933 - accuracy: 0.5000 - val_loss: 0.6938 - val_accuracy: 0.1818\n"
          ]
        },
        {
          "output_type": "stream",
          "name": "stderr",
          "text": [
            "\r 12%|█▏        | 4/34 [02:15<16:09, 32.30s/it]"
          ]
        },
        {
          "output_type": "stream",
          "name": "stdout",
          "text": [
            "Downloading data from https://storage.googleapis.com/keras-applications/efficientnetb1_notop.h5\n",
            "27025408/27018416 [==============================] - 0s 0us/step\n",
            "27033600/27018416 [==============================] - 0s 0us/step\n",
            "Epoch 1/3\n",
            "10/10 [==============================] - 15s 821ms/step - loss: 0.6952 - accuracy: 0.5000 - val_loss: 0.6758 - val_accuracy: 0.8182\n",
            "Epoch 2/3\n",
            "10/10 [==============================] - 6s 561ms/step - loss: 0.6941 - accuracy: 0.5000 - val_loss: 0.6851 - val_accuracy: 0.8182\n",
            "Epoch 3/3\n",
            "10/10 [==============================] - 6s 568ms/step - loss: 0.6935 - accuracy: 0.5000 - val_loss: 0.6857 - val_accuracy: 0.8182\n"
          ]
        },
        {
          "output_type": "stream",
          "name": "stderr",
          "text": [
            "\r 15%|█▍        | 5/34 [02:47<15:30, 32.09s/it]"
          ]
        },
        {
          "output_type": "stream",
          "name": "stdout",
          "text": [
            "Downloading data from https://storage.googleapis.com/keras-applications/efficientnetb2_notop.h5\n",
            "31793152/31790344 [==============================] - 0s 0us/step\n",
            "31801344/31790344 [==============================] - 0s 0us/step\n",
            "Epoch 1/3\n",
            "10/10 [==============================] - 15s 775ms/step - loss: 0.6961 - accuracy: 0.5000 - val_loss: 0.7282 - val_accuracy: 0.1818\n",
            "Epoch 2/3\n",
            "10/10 [==============================] - 6s 565ms/step - loss: 0.6945 - accuracy: 0.5000 - val_loss: 0.7182 - val_accuracy: 0.1818\n",
            "Epoch 3/3\n",
            "10/10 [==============================] - 6s 559ms/step - loss: 0.6936 - accuracy: 0.5000 - val_loss: 0.7061 - val_accuracy: 0.1818\n"
          ]
        },
        {
          "output_type": "stream",
          "name": "stderr",
          "text": [
            "\r 18%|█▊        | 6/34 [03:17<14:43, 31.54s/it]"
          ]
        },
        {
          "output_type": "stream",
          "name": "stdout",
          "text": [
            "Downloading data from https://storage.googleapis.com/keras-applications/efficientnetb3_notop.h5\n",
            "43941888/43941136 [==============================] - 1s 0us/step\n",
            "43950080/43941136 [==============================] - 1s 0us/step\n",
            "Epoch 1/3\n",
            "10/10 [==============================] - 17s 822ms/step - loss: 0.6974 - accuracy: 0.5000 - val_loss: 0.6745 - val_accuracy: 0.8182\n",
            "Epoch 2/3\n",
            "10/10 [==============================] - 6s 569ms/step - loss: 0.6935 - accuracy: 0.5000 - val_loss: 0.6877 - val_accuracy: 0.8182\n",
            "Epoch 3/3\n",
            "10/10 [==============================] - 6s 570ms/step - loss: 0.6930 - accuracy: 0.5000 - val_loss: 0.6855 - val_accuracy: 0.8182\n"
          ]
        },
        {
          "output_type": "stream",
          "name": "stderr",
          "text": [
            "\r 21%|██        | 7/34 [03:51<14:29, 32.20s/it]"
          ]
        },
        {
          "output_type": "stream",
          "name": "stdout",
          "text": [
            "Downloading data from https://storage.googleapis.com/keras-applications/efficientnetb4_notop.h5\n",
            "71688192/71686520 [==============================] - 1s 0us/step\n",
            "71696384/71686520 [==============================] - 1s 0us/step\n",
            "Epoch 1/3\n",
            "10/10 [==============================] - 19s 880ms/step - loss: 0.6953 - accuracy: 0.5000 - val_loss: 0.6678 - val_accuracy: 0.8182\n",
            "Epoch 2/3\n",
            "10/10 [==============================] - 6s 563ms/step - loss: 0.6931 - accuracy: 0.5000 - val_loss: 0.6846 - val_accuracy: 0.8182\n",
            "Epoch 3/3\n",
            "10/10 [==============================] - 6s 571ms/step - loss: 0.6933 - accuracy: 0.4937 - val_loss: 0.7042 - val_accuracy: 0.1818\n"
          ]
        },
        {
          "output_type": "stream",
          "name": "stderr",
          "text": [
            "\r 24%|██▎       | 8/34 [04:28<14:37, 33.74s/it]"
          ]
        },
        {
          "output_type": "stream",
          "name": "stdout",
          "text": [
            "Downloading data from https://storage.googleapis.com/keras-applications/efficientnetb5_notop.h5\n",
            "115269632/115263384 [==============================] - 2s 0us/step\n",
            "115277824/115263384 [==============================] - 2s 0us/step\n",
            "Epoch 1/3\n",
            "10/10 [==============================] - 22s 921ms/step - loss: 0.6953 - accuracy: 0.5000 - val_loss: 0.6632 - val_accuracy: 0.8182\n",
            "Epoch 2/3\n",
            "10/10 [==============================] - 6s 570ms/step - loss: 0.6931 - accuracy: 0.5000 - val_loss: 0.6792 - val_accuracy: 0.8182\n",
            "Epoch 3/3\n",
            "10/10 [==============================] - 6s 573ms/step - loss: 0.6926 - accuracy: 0.5000 - val_loss: 0.6948 - val_accuracy: 0.1818\n"
          ]
        },
        {
          "output_type": "stream",
          "name": "stderr",
          "text": [
            "\r 26%|██▋       | 9/34 [05:10<15:05, 36.22s/it]"
          ]
        },
        {
          "output_type": "stream",
          "name": "stdout",
          "text": [
            "Downloading data from https://storage.googleapis.com/keras-applications/efficientnetb6_notop.h5\n",
            "165240832/165234480 [==============================] - 3s 0us/step\n",
            "165249024/165234480 [==============================] - 3s 0us/step\n",
            "Epoch 1/3\n",
            "10/10 [==============================] - 23s 1s/step - loss: 0.6973 - accuracy: 0.5000 - val_loss: 0.6686 - val_accuracy: 0.8182\n",
            "Epoch 2/3\n",
            "10/10 [==============================] - 6s 580ms/step - loss: 0.6939 - accuracy: 0.5000 - val_loss: 0.6894 - val_accuracy: 0.8182\n",
            "Epoch 3/3\n",
            "10/10 [==============================] - 6s 572ms/step - loss: 0.6935 - accuracy: 0.4748 - val_loss: 0.7041 - val_accuracy: 0.1818\n"
          ]
        },
        {
          "output_type": "stream",
          "name": "stderr",
          "text": [
            "\r 29%|██▉       | 10/34 [05:56<15:44, 39.34s/it]"
          ]
        },
        {
          "output_type": "stream",
          "name": "stdout",
          "text": [
            "Downloading data from https://storage.googleapis.com/keras-applications/efficientnetb7_notop.h5\n",
            "258080768/258076736 [==============================] - 2s 0us/step\n",
            "258088960/258076736 [==============================] - 2s 0us/step\n",
            "Epoch 1/3\n",
            "10/10 [==============================] - 29s 1s/step - loss: 0.7017 - accuracy: 0.5000 - val_loss: 0.6574 - val_accuracy: 0.8182\n",
            "Epoch 2/3\n",
            "10/10 [==============================] - 6s 579ms/step - loss: 0.6939 - accuracy: 0.5000 - val_loss: 0.6883 - val_accuracy: 0.8182\n",
            "Epoch 3/3\n",
            "10/10 [==============================] - 6s 581ms/step - loss: 0.6942 - accuracy: 0.4811 - val_loss: 0.7098 - val_accuracy: 0.1818\n"
          ]
        },
        {
          "output_type": "stream",
          "name": "stderr",
          "text": [
            "\r 32%|███▏      | 11/34 [06:47<16:26, 42.88s/it]"
          ]
        },
        {
          "output_type": "stream",
          "name": "stdout",
          "text": [
            "Downloading data from https://storage.googleapis.com/tensorflow/keras-applications/efficientnet_v2/efficientnetv2-b0_notop.h5\n",
            "24281088/24274472 [==============================] - 0s 0us/step\n",
            "24289280/24274472 [==============================] - 0s 0us/step\n",
            "Epoch 1/3\n",
            "10/10 [==============================] - 12s 727ms/step - loss: 0.6954 - accuracy: 0.4686 - val_loss: 0.6759 - val_accuracy: 0.8182\n",
            "Epoch 2/3\n",
            "10/10 [==============================] - 6s 556ms/step - loss: 0.6936 - accuracy: 0.5000 - val_loss: 0.6839 - val_accuracy: 0.8182\n",
            "Epoch 3/3\n",
            "10/10 [==============================] - 6s 556ms/step - loss: 0.6941 - accuracy: 0.4434 - val_loss: 0.6986 - val_accuracy: 0.1818\n"
          ]
        },
        {
          "output_type": "stream",
          "name": "stderr",
          "text": [
            "\r 35%|███▌      | 12/34 [07:14<13:59, 38.16s/it]"
          ]
        },
        {
          "output_type": "stream",
          "name": "stdout",
          "text": [
            "Downloading data from https://storage.googleapis.com/tensorflow/keras-applications/efficientnet_v2/efficientnetv2-b1_notop.h5\n",
            "28459008/28456008 [==============================] - 1s 0us/step\n",
            "28467200/28456008 [==============================] - 1s 0us/step\n",
            "Epoch 1/3\n",
            "10/10 [==============================] - 14s 774ms/step - loss: 0.6980 - accuracy: 0.5000 - val_loss: 0.6558 - val_accuracy: 0.8182\n",
            "Epoch 2/3\n",
            "10/10 [==============================] - 6s 556ms/step - loss: 0.6951 - accuracy: 0.5000 - val_loss: 0.6808 - val_accuracy: 0.8182\n",
            "Epoch 3/3\n",
            "10/10 [==============================] - 6s 566ms/step - loss: 0.6933 - accuracy: 0.5000 - val_loss: 0.6917 - val_accuracy: 0.8182\n"
          ]
        },
        {
          "output_type": "stream",
          "name": "stderr",
          "text": [
            "\r 38%|███▊      | 13/34 [07:46<12:42, 36.29s/it]"
          ]
        },
        {
          "output_type": "stream",
          "name": "stdout",
          "text": [
            "Downloading data from https://storage.googleapis.com/tensorflow/keras-applications/efficientnet_v2/efficientnetv2-b2_notop.h5\n",
            "35840000/35839040 [==============================] - 1s 0us/step\n",
            "35848192/35839040 [==============================] - 1s 0us/step\n",
            "Epoch 1/3\n",
            "10/10 [==============================] - 15s 786ms/step - loss: 0.6953 - accuracy: 0.5000 - val_loss: 0.7161 - val_accuracy: 0.1818\n",
            "Epoch 2/3\n",
            "10/10 [==============================] - 6s 558ms/step - loss: 0.6949 - accuracy: 0.4340 - val_loss: 0.6900 - val_accuracy: 0.8182\n",
            "Epoch 3/3\n",
            "10/10 [==============================] - 6s 554ms/step - loss: 0.6936 - accuracy: 0.5000 - val_loss: 0.6900 - val_accuracy: 0.8182\n"
          ]
        },
        {
          "output_type": "stream",
          "name": "stderr",
          "text": [
            "\r 41%|████      | 14/34 [08:17<11:32, 34.62s/it]"
          ]
        },
        {
          "output_type": "stream",
          "name": "stdout",
          "text": [
            "Downloading data from https://storage.googleapis.com/tensorflow/keras-applications/efficientnet_v2/efficientnetv2-b3_notop.h5\n",
            "52609024/52606240 [==============================] - 1s 0us/step\n",
            "52617216/52606240 [==============================] - 1s 0us/step\n",
            "Epoch 1/3\n",
            "10/10 [==============================] - 16s 829ms/step - loss: 0.6956 - accuracy: 0.5000 - val_loss: 0.6756 - val_accuracy: 0.8182\n",
            "Epoch 2/3\n",
            "10/10 [==============================] - 6s 564ms/step - loss: 0.6934 - accuracy: 0.5000 - val_loss: 0.6860 - val_accuracy: 0.8182\n",
            "Epoch 3/3\n",
            "10/10 [==============================] - 6s 568ms/step - loss: 0.6931 - accuracy: 0.5000 - val_loss: 0.6885 - val_accuracy: 0.8182\n"
          ]
        },
        {
          "output_type": "stream",
          "name": "stderr",
          "text": [
            "\r 44%|████▍     | 15/34 [08:51<10:51, 34.32s/it]"
          ]
        },
        {
          "output_type": "stream",
          "name": "stdout",
          "text": [
            "Downloading data from https://storage.googleapis.com/tensorflow/keras-applications/efficientnet_v2/efficientnetv2-l_notop.h5\n",
            "473178112/473176280 [==============================] - 9s 0us/step\n",
            "473186304/473176280 [==============================] - 9s 0us/step\n",
            "Epoch 1/3\n",
            "10/10 [==============================] - 33s 1s/step - loss: 0.6934 - accuracy: 0.5126 - val_loss: 0.6973 - val_accuracy: 0.2000\n",
            "Epoch 2/3\n",
            "10/10 [==============================] - 6s 587ms/step - loss: 0.6931 - accuracy: 0.5597 - val_loss: 0.6940 - val_accuracy: 0.4182\n",
            "Epoch 3/3\n",
            "10/10 [==============================] - 6s 587ms/step - loss: 0.6923 - accuracy: 0.6038 - val_loss: 0.6921 - val_accuracy: 0.6545\n"
          ]
        },
        {
          "output_type": "stream",
          "name": "stderr",
          "text": [
            "\r 47%|████▋     | 16/34 [09:56<13:04, 43.59s/it]"
          ]
        },
        {
          "output_type": "stream",
          "name": "stdout",
          "text": [
            "Downloading data from https://storage.googleapis.com/tensorflow/keras-applications/efficientnet_v2/efficientnetv2-m_notop.h5\n",
            "214204416/214201816 [==============================] - 4s 0us/step\n",
            "214212608/214201816 [==============================] - 4s 0us/step\n",
            "Epoch 1/3\n",
            "10/10 [==============================] - 26s 1s/step - loss: 0.6947 - accuracy: 0.4717 - val_loss: 0.6884 - val_accuracy: 0.8000\n",
            "Epoch 2/3\n",
            "10/10 [==============================] - 6s 615ms/step - loss: 0.6941 - accuracy: 0.5252 - val_loss: 0.6885 - val_accuracy: 0.7818\n",
            "Epoch 3/3\n",
            "10/10 [==============================] - 6s 571ms/step - loss: 0.6941 - accuracy: 0.5126 - val_loss: 0.6878 - val_accuracy: 0.8000\n"
          ]
        },
        {
          "output_type": "stream",
          "name": "stderr",
          "text": [
            "\r 50%|█████     | 17/34 [10:45<12:50, 45.30s/it]"
          ]
        },
        {
          "output_type": "stream",
          "name": "stdout",
          "text": [
            "Downloading data from https://storage.googleapis.com/tensorflow/keras-applications/efficientnet_v2/efficientnetv2-s_notop.h5\n",
            "82427904/82420632 [==============================] - 2s 0us/step\n",
            "82436096/82420632 [==============================] - 2s 0us/step\n",
            "Epoch 1/3\n",
            "10/10 [==============================] - 18s 882ms/step - loss: 0.6979 - accuracy: 0.4057 - val_loss: 0.6789 - val_accuracy: 0.6909\n",
            "Epoch 2/3\n",
            "10/10 [==============================] - 6s 570ms/step - loss: 0.6939 - accuracy: 0.4403 - val_loss: 0.6577 - val_accuracy: 0.8182\n",
            "Epoch 3/3\n",
            "10/10 [==============================] - 6s 572ms/step - loss: 0.6889 - accuracy: 0.4937 - val_loss: 0.6403 - val_accuracy: 0.8182\n"
          ]
        },
        {
          "output_type": "stream",
          "name": "stderr",
          "text": [
            "\r 53%|█████▎    | 18/34 [11:23<11:28, 43.03s/it]"
          ]
        },
        {
          "output_type": "stream",
          "name": "stdout",
          "text": [
            "Downloading data from https://storage.googleapis.com/tensorflow/keras-applications/inception_resnet_v2/inception_resnet_v2_weights_tf_dim_ordering_tf_kernels_notop.h5\n",
            "219062272/219055592 [==============================] - 2s 0us/step\n",
            "219070464/219055592 [==============================] - 2s 0us/step\n",
            "Epoch 1/3\n",
            "10/10 [==============================] - 19s 936ms/step - loss: 0.6600 - accuracy: 0.7925 - val_loss: 0.5789 - val_accuracy: 0.7818\n",
            "Epoch 2/3\n",
            "10/10 [==============================] - 6s 568ms/step - loss: 0.5825 - accuracy: 0.8491 - val_loss: 0.5284 - val_accuracy: 0.8727\n",
            "Epoch 3/3\n",
            "10/10 [==============================] - 6s 568ms/step - loss: 0.5224 - accuracy: 0.9434 - val_loss: 0.4731 - val_accuracy: 0.9455\n"
          ]
        },
        {
          "output_type": "stream",
          "name": "stderr",
          "text": [
            "\r 56%|█████▌    | 19/34 [12:04<10:35, 42.37s/it]"
          ]
        },
        {
          "output_type": "stream",
          "name": "stdout",
          "text": [
            "Downloading data from https://storage.googleapis.com/tensorflow/keras-applications/inception_v3/inception_v3_weights_tf_dim_ordering_tf_kernels_notop.h5\n",
            "87916544/87910968 [==============================] - 1s 0us/step\n",
            "87924736/87910968 [==============================] - 1s 0us/step\n",
            "Epoch 1/3\n",
            "10/10 [==============================] - 11s 719ms/step - loss: 0.6674 - accuracy: 0.6667 - val_loss: 0.6204 - val_accuracy: 0.8000\n",
            "Epoch 2/3\n",
            "10/10 [==============================] - 6s 565ms/step - loss: 0.5872 - accuracy: 0.7862 - val_loss: 0.5214 - val_accuracy: 0.8909\n",
            "Epoch 3/3\n",
            "10/10 [==============================] - 6s 570ms/step - loss: 0.5290 - accuracy: 0.8648 - val_loss: 0.4754 - val_accuracy: 0.8727\n"
          ]
        },
        {
          "output_type": "stream",
          "name": "stderr",
          "text": [
            "\r 59%|█████▉    | 20/34 [12:30<08:46, 37.59s/it]"
          ]
        },
        {
          "output_type": "stream",
          "name": "stdout",
          "text": [
            "Downloading data from https://storage.googleapis.com/tensorflow/keras-applications/mobilenet/mobilenet_1_0_224_tf_no_top.h5\n",
            "17227776/17225924 [==============================] - 0s 0us/step\n",
            "17235968/17225924 [==============================] - 0s 0us/step\n",
            "Epoch 1/3\n",
            "10/10 [==============================] - 8s 642ms/step - loss: 0.8712 - accuracy: 0.4403 - val_loss: 0.6747 - val_accuracy: 0.6545\n",
            "Epoch 2/3\n",
            "10/10 [==============================] - 6s 565ms/step - loss: 0.7737 - accuracy: 0.4528 - val_loss: 0.6602 - val_accuracy: 0.6364\n",
            "Epoch 3/3\n",
            "10/10 [==============================] - 6s 559ms/step - loss: 0.7091 - accuracy: 0.5440 - val_loss: 0.6237 - val_accuracy: 0.6909\n"
          ]
        },
        {
          "output_type": "stream",
          "name": "stderr",
          "text": [
            "\r 62%|██████▏   | 21/34 [12:51<07:02, 32.48s/it]"
          ]
        },
        {
          "output_type": "stream",
          "name": "stdout",
          "text": [
            "Downloading data from https://storage.googleapis.com/tensorflow/keras-applications/mobilenet_v2/mobilenet_v2_weights_tf_dim_ordering_tf_kernels_1.0_224_no_top.h5\n",
            "9412608/9406464 [==============================] - 0s 0us/step\n",
            "9420800/9406464 [==============================] - 0s 0us/step\n",
            "Epoch 1/3\n",
            "10/10 [==============================] - 9s 656ms/step - loss: 0.7418 - accuracy: 0.4591 - val_loss: 0.5757 - val_accuracy: 0.8182\n",
            "Epoch 2/3\n",
            "10/10 [==============================] - 5s 552ms/step - loss: 0.6641 - accuracy: 0.6258 - val_loss: 0.5637 - val_accuracy: 0.8364\n",
            "Epoch 3/3\n",
            "10/10 [==============================] - 5s 553ms/step - loss: 0.6273 - accuracy: 0.7138 - val_loss: 0.5404 - val_accuracy: 0.8727\n"
          ]
        },
        {
          "output_type": "stream",
          "name": "stderr",
          "text": [
            "\r 65%|██████▍   | 22/34 [13:13<05:52, 29.33s/it]"
          ]
        },
        {
          "output_type": "stream",
          "name": "stdout",
          "text": [
            "Downloading data from https://storage.googleapis.com/tensorflow/keras-applications/mobilenet_v3/weights_mobilenet_v3_large_224_1.0_float_no_top_v2.h5\n",
            "12689408/12683000 [==============================] - 1s 0us/step\n",
            "12697600/12683000 [==============================] - 1s 0us/step\n",
            "Epoch 1/3\n",
            "10/10 [==============================] - 10s 677ms/step - loss: 0.7033 - accuracy: 0.5000 - val_loss: 0.7250 - val_accuracy: 0.1818\n",
            "Epoch 2/3\n",
            "10/10 [==============================] - 6s 559ms/step - loss: 0.7013 - accuracy: 0.5000 - val_loss: 0.7193 - val_accuracy: 0.1818\n",
            "Epoch 3/3\n",
            "10/10 [==============================] - 6s 553ms/step - loss: 0.6994 - accuracy: 0.5000 - val_loss: 0.7168 - val_accuracy: 0.1818\n"
          ]
        },
        {
          "output_type": "stream",
          "name": "stderr",
          "text": [
            "\r 68%|██████▊   | 23/34 [13:39<05:14, 28.56s/it]"
          ]
        },
        {
          "output_type": "stream",
          "name": "stdout",
          "text": [
            "Downloading data from https://storage.googleapis.com/tensorflow/keras-applications/mobilenet_v3/weights_mobilenet_v3_small_224_1.0_float_no_top_v2.h5\n",
            "4341760/4334752 [==============================] - 0s 0us/step\n",
            "4349952/4334752 [==============================] - 0s 0us/step\n",
            "Epoch 1/3\n",
            "10/10 [==============================] - 9s 669ms/step - loss: 0.7032 - accuracy: 0.5000 - val_loss: 0.7815 - val_accuracy: 0.1818\n",
            "Epoch 2/3\n",
            "10/10 [==============================] - 6s 554ms/step - loss: 0.6996 - accuracy: 0.5000 - val_loss: 0.7609 - val_accuracy: 0.1818\n",
            "Epoch 3/3\n",
            "10/10 [==============================] - 5s 554ms/step - loss: 0.6970 - accuracy: 0.5000 - val_loss: 0.7430 - val_accuracy: 0.1818\n"
          ]
        },
        {
          "output_type": "stream",
          "name": "stderr",
          "text": [
            "\r 71%|███████   | 24/34 [14:02<04:27, 26.77s/it]"
          ]
        },
        {
          "output_type": "stream",
          "name": "stdout",
          "text": [
            "Downloading data from https://storage.googleapis.com/tensorflow/keras-applications/nasnet/NASNet-mobile-no-top.h5\n",
            "19996672/19993432 [==============================] - 1s 0us/step\n",
            "20004864/19993432 [==============================] - 1s 0us/step\n",
            "Epoch 1/3\n",
            "10/10 [==============================] - 22s 980ms/step - loss: 0.7434 - accuracy: 0.5314 - val_loss: 0.7556 - val_accuracy: 0.3818\n",
            "Epoch 2/3\n",
            "10/10 [==============================] - 6s 564ms/step - loss: 0.7031 - accuracy: 0.5975 - val_loss: 0.7125 - val_accuracy: 0.4364\n",
            "Epoch 3/3\n",
            "10/10 [==============================] - 6s 559ms/step - loss: 0.6731 - accuracy: 0.6509 - val_loss: 0.6747 - val_accuracy: 0.6545\n"
          ]
        },
        {
          "output_type": "stream",
          "name": "stderr",
          "text": [
            "\r 74%|███████▎  | 25/34 [14:44<04:41, 31.29s/it]"
          ]
        },
        {
          "output_type": "stream",
          "name": "stdout",
          "text": [
            "Downloading data from https://storage.googleapis.com/tensorflow/keras-applications/resnet/resnet101_weights_tf_dim_ordering_tf_kernels_notop.h5\n",
            "171450368/171446536 [==============================] - 4s 0us/step\n",
            "171458560/171446536 [==============================] - 4s 0us/step\n",
            "Epoch 1/3\n",
            "10/10 [==============================] - 13s 777ms/step - loss: 0.7052 - accuracy: 0.5000 - val_loss: 0.7811 - val_accuracy: 0.1818\n",
            "Epoch 2/3\n",
            "10/10 [==============================] - 6s 562ms/step - loss: 0.7018 - accuracy: 0.5000 - val_loss: 0.7366 - val_accuracy: 0.1818\n",
            "Epoch 3/3\n",
            "10/10 [==============================] - 6s 558ms/step - loss: 0.6976 - accuracy: 0.5000 - val_loss: 0.7122 - val_accuracy: 0.1818\n"
          ]
        },
        {
          "output_type": "stream",
          "name": "stderr",
          "text": [
            "\r 76%|███████▋  | 26/34 [15:16<04:12, 31.51s/it]"
          ]
        },
        {
          "output_type": "stream",
          "name": "stdout",
          "text": [
            "Downloading data from https://storage.googleapis.com/tensorflow/keras-applications/resnet/resnet101v2_weights_tf_dim_ordering_tf_kernels_notop.h5\n",
            "171319296/171317808 [==============================] - 3s 0us/step\n",
            "171327488/171317808 [==============================] - 3s 0us/step\n",
            "Epoch 1/3\n",
            "10/10 [==============================] - 13s 758ms/step - loss: 0.8515 - accuracy: 0.4119 - val_loss: 0.6173 - val_accuracy: 0.6909\n",
            "Epoch 2/3\n",
            "10/10 [==============================] - 6s 559ms/step - loss: 0.7474 - accuracy: 0.5566 - val_loss: 0.5824 - val_accuracy: 0.7818\n",
            "Epoch 3/3\n",
            "10/10 [==============================] - 6s 568ms/step - loss: 0.6805 - accuracy: 0.6164 - val_loss: 0.5292 - val_accuracy: 0.8727\n"
          ]
        },
        {
          "output_type": "stream",
          "name": "stderr",
          "text": [
            "\r 79%|███████▉  | 27/34 [15:48<03:41, 31.71s/it]"
          ]
        },
        {
          "output_type": "stream",
          "name": "stdout",
          "text": [
            "Downloading data from https://storage.googleapis.com/tensorflow/keras-applications/resnet/resnet152_weights_tf_dim_ordering_tf_kernels_notop.h5\n",
            "234700800/234698864 [==============================] - 4s 0us/step\n",
            "234708992/234698864 [==============================] - 4s 0us/step\n",
            "Epoch 1/3\n",
            "10/10 [==============================] - 17s 886ms/step - loss: 0.8143 - accuracy: 0.5000 - val_loss: 0.5542 - val_accuracy: 0.8182\n",
            "Epoch 2/3\n",
            "10/10 [==============================] - 6s 567ms/step - loss: 0.7851 - accuracy: 0.5000 - val_loss: 0.5720 - val_accuracy: 0.8182\n",
            "Epoch 3/3\n",
            "10/10 [==============================] - 6s 578ms/step - loss: 0.7621 - accuracy: 0.5000 - val_loss: 0.5887 - val_accuracy: 0.8182\n"
          ]
        },
        {
          "output_type": "stream",
          "name": "stderr",
          "text": [
            "\r 82%|████████▏ | 28/34 [16:27<03:22, 33.78s/it]"
          ]
        },
        {
          "output_type": "stream",
          "name": "stdout",
          "text": [
            "Downloading data from https://storage.googleapis.com/tensorflow/keras-applications/resnet/resnet152v2_weights_tf_dim_ordering_tf_kernels_notop.h5\n",
            "234553344/234545216 [==============================] - 3s 0us/step\n",
            "234561536/234545216 [==============================] - 3s 0us/step\n",
            "Epoch 1/3\n",
            "10/10 [==============================] - 16s 850ms/step - loss: 1.0172 - accuracy: 0.4497 - val_loss: 0.6702 - val_accuracy: 0.6909\n",
            "Epoch 2/3\n",
            "10/10 [==============================] - 6s 572ms/step - loss: 0.8857 - accuracy: 0.4528 - val_loss: 0.6805 - val_accuracy: 0.5273\n",
            "Epoch 3/3\n",
            "10/10 [==============================] - 6s 574ms/step - loss: 0.7935 - accuracy: 0.5000 - val_loss: 0.6700 - val_accuracy: 0.6182\n"
          ]
        },
        {
          "output_type": "stream",
          "name": "stderr",
          "text": [
            "\r 85%|████████▌ | 29/34 [17:02<02:51, 34.40s/it]"
          ]
        },
        {
          "output_type": "stream",
          "name": "stdout",
          "text": [
            "Downloading data from https://storage.googleapis.com/tensorflow/keras-applications/resnet/resnet50_weights_tf_dim_ordering_tf_kernels_notop.h5\n",
            "94773248/94765736 [==============================] - 1s 0us/step\n",
            "94781440/94765736 [==============================] - 1s 0us/step\n",
            "Epoch 1/3\n",
            "10/10 [==============================] - 10s 690ms/step - loss: 0.7166 - accuracy: 0.4748 - val_loss: 0.6916 - val_accuracy: 0.7636\n",
            "Epoch 2/3\n",
            "10/10 [==============================] - 6s 558ms/step - loss: 0.7048 - accuracy: 0.4591 - val_loss: 0.6867 - val_accuracy: 0.7636\n",
            "Epoch 3/3\n",
            "10/10 [==============================] - 6s 561ms/step - loss: 0.6994 - accuracy: 0.4686 - val_loss: 0.6822 - val_accuracy: 0.7636\n"
          ]
        },
        {
          "output_type": "stream",
          "name": "stderr",
          "text": [
            "\r 88%|████████▊ | 30/34 [17:27<02:05, 31.42s/it]"
          ]
        },
        {
          "output_type": "stream",
          "name": "stdout",
          "text": [
            "Downloading data from https://storage.googleapis.com/tensorflow/keras-applications/resnet/resnet50v2_weights_tf_dim_ordering_tf_kernels_notop.h5\n",
            "94674944/94668760 [==============================] - 1s 0us/step\n",
            "94683136/94668760 [==============================] - 1s 0us/step\n",
            "Epoch 1/3\n",
            "10/10 [==============================] - 9s 669ms/step - loss: 0.6361 - accuracy: 0.7107 - val_loss: 0.5279 - val_accuracy: 0.8364\n",
            "Epoch 2/3\n",
            "10/10 [==============================] - 6s 557ms/step - loss: 0.5544 - accuracy: 0.7925 - val_loss: 0.4969 - val_accuracy: 0.8909\n",
            "Epoch 3/3\n",
            "10/10 [==============================] - 6s 558ms/step - loss: 0.4520 - accuracy: 0.9340 - val_loss: 0.4595 - val_accuracy: 0.9273\n"
          ]
        },
        {
          "output_type": "stream",
          "name": "stderr",
          "text": [
            "\r 91%|█████████ | 31/34 [17:52<01:28, 29.66s/it]"
          ]
        },
        {
          "output_type": "stream",
          "name": "stdout",
          "text": [
            "Downloading data from https://storage.googleapis.com/tensorflow/keras-applications/vgg16/vgg16_weights_tf_dim_ordering_tf_kernels_notop.h5\n",
            "58892288/58889256 [==============================] - 0s 0us/step\n",
            "58900480/58889256 [==============================] - 0s 0us/step\n",
            "Epoch 1/3\n",
            "10/10 [==============================] - 8s 716ms/step - loss: 0.7965 - accuracy: 0.5000 - val_loss: 0.4906 - val_accuracy: 0.8182\n",
            "Epoch 2/3\n",
            "10/10 [==============================] - 6s 557ms/step - loss: 0.7846 - accuracy: 0.5000 - val_loss: 0.4968 - val_accuracy: 0.8182\n",
            "Epoch 3/3\n",
            "10/10 [==============================] - 6s 553ms/step - loss: 0.7688 - accuracy: 0.5000 - val_loss: 0.5031 - val_accuracy: 0.8182\n"
          ]
        },
        {
          "output_type": "stream",
          "name": "stderr",
          "text": [
            "\r 94%|█████████▍| 32/34 [18:13<00:53, 26.98s/it]"
          ]
        },
        {
          "output_type": "stream",
          "name": "stdout",
          "text": [
            "Downloading data from https://storage.googleapis.com/tensorflow/keras-applications/vgg19/vgg19_weights_tf_dim_ordering_tf_kernels_notop.h5\n",
            "80142336/80134624 [==============================] - 1s 0us/step\n",
            "80150528/80134624 [==============================] - 1s 0us/step\n",
            "Epoch 1/3\n",
            "10/10 [==============================] - 7s 609ms/step - loss: 0.8158 - accuracy: 0.5000 - val_loss: 1.0154 - val_accuracy: 0.1818\n",
            "Epoch 2/3\n",
            "10/10 [==============================] - 6s 565ms/step - loss: 0.8022 - accuracy: 0.5000 - val_loss: 0.9925 - val_accuracy: 0.1818\n",
            "Epoch 3/3\n",
            "10/10 [==============================] - 6s 563ms/step - loss: 0.7906 - accuracy: 0.5000 - val_loss: 0.9679 - val_accuracy: 0.1818\n"
          ]
        },
        {
          "output_type": "stream",
          "name": "stderr",
          "text": [
            "\r 97%|█████████▋| 33/34 [18:34<00:25, 25.08s/it]"
          ]
        },
        {
          "output_type": "stream",
          "name": "stdout",
          "text": [
            "Downloading data from https://storage.googleapis.com/tensorflow/keras-applications/xception/xception_weights_tf_dim_ordering_tf_kernels_notop.h5\n",
            "83689472/83683744 [==============================] - 1s 0us/step\n",
            "83697664/83683744 [==============================] - 1s 0us/step\n",
            "Epoch 1/3\n",
            "10/10 [==============================] - 9s 679ms/step - loss: 0.7232 - accuracy: 0.4151 - val_loss: 0.7339 - val_accuracy: 0.4364\n",
            "Epoch 2/3\n",
            "10/10 [==============================] - 6s 565ms/step - loss: 0.6810 - accuracy: 0.6258 - val_loss: 0.6781 - val_accuracy: 0.6364\n",
            "Epoch 3/3\n",
            "10/10 [==============================] - 6s 563ms/step - loss: 0.6388 - accuracy: 0.7862 - val_loss: 0.6302 - val_accuracy: 0.8364\n"
          ]
        },
        {
          "output_type": "stream",
          "name": "stderr",
          "text": [
            "100%|██████████| 34/34 [18:57<00:00, 33.46s/it]\n"
          ]
        }
      ]
    },
    {
      "cell_type": "code",
      "source": [
        "# Convert Results to DataFrame for easy viewing\n",
        "benchmark_df = pd.DataFrame(benchmark_df)\n",
        "benchmark_df.sort_values('num_model_params', inplace=True) # sort in ascending order of num_model_params column\n",
        "benchmark_df.to_csv('benchmark_df.csv', index=False) # write results to csv file\n",
        "benchmark_df_sorted = benchmark_df.sort_values([\"validation_accuracy\"], ascending=False)\n",
        "benchmark_df_sorted"
      ],
      "metadata": {
        "colab": {
          "base_uri": "https://localhost:8080/",
          "height": 1000
        },
        "id": "gLkVm8_ymjp4",
        "outputId": "21f2a66f-e3df-486c-a731-f923dc73785d"
      },
      "execution_count": null,
      "outputs": [
        {
          "output_type": "execute_result",
          "data": {
            "text/html": [
              "\n",
              "  <div id=\"df-54626fee-a28c-4d71-ba8a-960f01a8dc28\">\n",
              "    <div class=\"colab-df-container\">\n",
              "      <div>\n",
              "<style scoped>\n",
              "    .dataframe tbody tr th:only-of-type {\n",
              "        vertical-align: middle;\n",
              "    }\n",
              "\n",
              "    .dataframe tbody tr th {\n",
              "        vertical-align: top;\n",
              "    }\n",
              "\n",
              "    .dataframe thead th {\n",
              "        text-align: right;\n",
              "    }\n",
              "</style>\n",
              "<table border=\"1\" class=\"dataframe\">\n",
              "  <thead>\n",
              "    <tr style=\"text-align: right;\">\n",
              "      <th></th>\n",
              "      <th>model_name</th>\n",
              "      <th>num_model_params</th>\n",
              "      <th>validation_accuracy</th>\n",
              "    </tr>\n",
              "  </thead>\n",
              "  <tbody>\n",
              "    <tr>\n",
              "      <th>18</th>\n",
              "      <td>InceptionResNetV2</td>\n",
              "      <td>54339810</td>\n",
              "      <td>0.945455</td>\n",
              "    </tr>\n",
              "    <tr>\n",
              "      <th>30</th>\n",
              "      <td>ResNet50V2</td>\n",
              "      <td>23568898</td>\n",
              "      <td>0.927273</td>\n",
              "    </tr>\n",
              "    <tr>\n",
              "      <th>1</th>\n",
              "      <td>DenseNet169</td>\n",
              "      <td>12646210</td>\n",
              "      <td>0.890909</td>\n",
              "    </tr>\n",
              "    <tr>\n",
              "      <th>19</th>\n",
              "      <td>InceptionV3</td>\n",
              "      <td>21806882</td>\n",
              "      <td>0.872727</td>\n",
              "    </tr>\n",
              "    <tr>\n",
              "      <th>21</th>\n",
              "      <td>MobileNetV2</td>\n",
              "      <td>2260546</td>\n",
              "      <td>0.872727</td>\n",
              "    </tr>\n",
              "    <tr>\n",
              "      <th>26</th>\n",
              "      <td>ResNet101V2</td>\n",
              "      <td>42630658</td>\n",
              "      <td>0.872727</td>\n",
              "    </tr>\n",
              "    <tr>\n",
              "      <th>33</th>\n",
              "      <td>Xception</td>\n",
              "      <td>20865578</td>\n",
              "      <td>0.836364</td>\n",
              "    </tr>\n",
              "    <tr>\n",
              "      <th>17</th>\n",
              "      <td>EfficientNetV2S</td>\n",
              "      <td>20333922</td>\n",
              "      <td>0.818182</td>\n",
              "    </tr>\n",
              "    <tr>\n",
              "      <th>31</th>\n",
              "      <td>VGG16</td>\n",
              "      <td>14715714</td>\n",
              "      <td>0.818182</td>\n",
              "    </tr>\n",
              "    <tr>\n",
              "      <th>14</th>\n",
              "      <td>EfficientNetV2B3</td>\n",
              "      <td>12933696</td>\n",
              "      <td>0.818182</td>\n",
              "    </tr>\n",
              "    <tr>\n",
              "      <th>6</th>\n",
              "      <td>EfficientNetB3</td>\n",
              "      <td>10786609</td>\n",
              "      <td>0.818182</td>\n",
              "    </tr>\n",
              "    <tr>\n",
              "      <th>13</th>\n",
              "      <td>EfficientNetV2B2</td>\n",
              "      <td>8772192</td>\n",
              "      <td>0.818182</td>\n",
              "    </tr>\n",
              "    <tr>\n",
              "      <th>12</th>\n",
              "      <td>EfficientNetV2B1</td>\n",
              "      <td>6933686</td>\n",
              "      <td>0.818182</td>\n",
              "    </tr>\n",
              "    <tr>\n",
              "      <th>4</th>\n",
              "      <td>EfficientNetB1</td>\n",
              "      <td>6577801</td>\n",
              "      <td>0.818182</td>\n",
              "    </tr>\n",
              "    <tr>\n",
              "      <th>27</th>\n",
              "      <td>ResNet152</td>\n",
              "      <td>58375042</td>\n",
              "      <td>0.818182</td>\n",
              "    </tr>\n",
              "    <tr>\n",
              "      <th>16</th>\n",
              "      <td>EfficientNetV2M</td>\n",
              "      <td>53152950</td>\n",
              "      <td>0.800000</td>\n",
              "    </tr>\n",
              "    <tr>\n",
              "      <th>29</th>\n",
              "      <td>ResNet50</td>\n",
              "      <td>23591810</td>\n",
              "      <td>0.763636</td>\n",
              "    </tr>\n",
              "    <tr>\n",
              "      <th>20</th>\n",
              "      <td>MobileNet</td>\n",
              "      <td>3230914</td>\n",
              "      <td>0.690909</td>\n",
              "    </tr>\n",
              "    <tr>\n",
              "      <th>24</th>\n",
              "      <td>NASNetMobile</td>\n",
              "      <td>4271830</td>\n",
              "      <td>0.654545</td>\n",
              "    </tr>\n",
              "    <tr>\n",
              "      <th>15</th>\n",
              "      <td>EfficientNetV2L</td>\n",
              "      <td>117749410</td>\n",
              "      <td>0.654545</td>\n",
              "    </tr>\n",
              "    <tr>\n",
              "      <th>28</th>\n",
              "      <td>ResNet152V2</td>\n",
              "      <td>58335746</td>\n",
              "      <td>0.618182</td>\n",
              "    </tr>\n",
              "    <tr>\n",
              "      <th>0</th>\n",
              "      <td>DenseNet121</td>\n",
              "      <td>7039554</td>\n",
              "      <td>0.545455</td>\n",
              "    </tr>\n",
              "    <tr>\n",
              "      <th>2</th>\n",
              "      <td>DenseNet201</td>\n",
              "      <td>18325826</td>\n",
              "      <td>0.381818</td>\n",
              "    </tr>\n",
              "    <tr>\n",
              "      <th>32</th>\n",
              "      <td>VGG19</td>\n",
              "      <td>20025410</td>\n",
              "      <td>0.181818</td>\n",
              "    </tr>\n",
              "    <tr>\n",
              "      <th>8</th>\n",
              "      <td>EfficientNetB5</td>\n",
              "      <td>28517625</td>\n",
              "      <td>0.181818</td>\n",
              "    </tr>\n",
              "    <tr>\n",
              "      <th>9</th>\n",
              "      <td>EfficientNetB6</td>\n",
              "      <td>40964753</td>\n",
              "      <td>0.181818</td>\n",
              "    </tr>\n",
              "    <tr>\n",
              "      <th>7</th>\n",
              "      <td>EfficientNetB4</td>\n",
              "      <td>17677409</td>\n",
              "      <td>0.181818</td>\n",
              "    </tr>\n",
              "    <tr>\n",
              "      <th>25</th>\n",
              "      <td>ResNet101</td>\n",
              "      <td>42662274</td>\n",
              "      <td>0.181818</td>\n",
              "    </tr>\n",
              "    <tr>\n",
              "      <th>5</th>\n",
              "      <td>EfficientNetB2</td>\n",
              "      <td>7771387</td>\n",
              "      <td>0.181818</td>\n",
              "    </tr>\n",
              "    <tr>\n",
              "      <th>11</th>\n",
              "      <td>EfficientNetV2B0</td>\n",
              "      <td>5921874</td>\n",
              "      <td>0.181818</td>\n",
              "    </tr>\n",
              "    <tr>\n",
              "      <th>3</th>\n",
              "      <td>EfficientNetB0</td>\n",
              "      <td>4052133</td>\n",
              "      <td>0.181818</td>\n",
              "    </tr>\n",
              "    <tr>\n",
              "      <th>22</th>\n",
              "      <td>MobileNetV3Large</td>\n",
              "      <td>2998274</td>\n",
              "      <td>0.181818</td>\n",
              "    </tr>\n",
              "    <tr>\n",
              "      <th>10</th>\n",
              "      <td>EfficientNetB7</td>\n",
              "      <td>64102809</td>\n",
              "      <td>0.181818</td>\n",
              "    </tr>\n",
              "    <tr>\n",
              "      <th>23</th>\n",
              "      <td>MobileNetV3Small</td>\n",
              "      <td>940274</td>\n",
              "      <td>0.181818</td>\n",
              "    </tr>\n",
              "  </tbody>\n",
              "</table>\n",
              "</div>\n",
              "      <button class=\"colab-df-convert\" onclick=\"convertToInteractive('df-54626fee-a28c-4d71-ba8a-960f01a8dc28')\"\n",
              "              title=\"Convert this dataframe to an interactive table.\"\n",
              "              style=\"display:none;\">\n",
              "        \n",
              "  <svg xmlns=\"http://www.w3.org/2000/svg\" height=\"24px\"viewBox=\"0 0 24 24\"\n",
              "       width=\"24px\">\n",
              "    <path d=\"M0 0h24v24H0V0z\" fill=\"none\"/>\n",
              "    <path d=\"M18.56 5.44l.94 2.06.94-2.06 2.06-.94-2.06-.94-.94-2.06-.94 2.06-2.06.94zm-11 1L8.5 8.5l.94-2.06 2.06-.94-2.06-.94L8.5 2.5l-.94 2.06-2.06.94zm10 10l.94 2.06.94-2.06 2.06-.94-2.06-.94-.94-2.06-.94 2.06-2.06.94z\"/><path d=\"M17.41 7.96l-1.37-1.37c-.4-.4-.92-.59-1.43-.59-.52 0-1.04.2-1.43.59L10.3 9.45l-7.72 7.72c-.78.78-.78 2.05 0 2.83L4 21.41c.39.39.9.59 1.41.59.51 0 1.02-.2 1.41-.59l7.78-7.78 2.81-2.81c.8-.78.8-2.07 0-2.86zM5.41 20L4 18.59l7.72-7.72 1.47 1.35L5.41 20z\"/>\n",
              "  </svg>\n",
              "      </button>\n",
              "      \n",
              "  <style>\n",
              "    .colab-df-container {\n",
              "      display:flex;\n",
              "      flex-wrap:wrap;\n",
              "      gap: 12px;\n",
              "    }\n",
              "\n",
              "    .colab-df-convert {\n",
              "      background-color: #E8F0FE;\n",
              "      border: none;\n",
              "      border-radius: 50%;\n",
              "      cursor: pointer;\n",
              "      display: none;\n",
              "      fill: #1967D2;\n",
              "      height: 32px;\n",
              "      padding: 0 0 0 0;\n",
              "      width: 32px;\n",
              "    }\n",
              "\n",
              "    .colab-df-convert:hover {\n",
              "      background-color: #E2EBFA;\n",
              "      box-shadow: 0px 1px 2px rgba(60, 64, 67, 0.3), 0px 1px 3px 1px rgba(60, 64, 67, 0.15);\n",
              "      fill: #174EA6;\n",
              "    }\n",
              "\n",
              "    [theme=dark] .colab-df-convert {\n",
              "      background-color: #3B4455;\n",
              "      fill: #D2E3FC;\n",
              "    }\n",
              "\n",
              "    [theme=dark] .colab-df-convert:hover {\n",
              "      background-color: #434B5C;\n",
              "      box-shadow: 0px 1px 3px 1px rgba(0, 0, 0, 0.15);\n",
              "      filter: drop-shadow(0px 1px 2px rgba(0, 0, 0, 0.3));\n",
              "      fill: #FFFFFF;\n",
              "    }\n",
              "  </style>\n",
              "\n",
              "      <script>\n",
              "        const buttonEl =\n",
              "          document.querySelector('#df-54626fee-a28c-4d71-ba8a-960f01a8dc28 button.colab-df-convert');\n",
              "        buttonEl.style.display =\n",
              "          google.colab.kernel.accessAllowed ? 'block' : 'none';\n",
              "\n",
              "        async function convertToInteractive(key) {\n",
              "          const element = document.querySelector('#df-54626fee-a28c-4d71-ba8a-960f01a8dc28');\n",
              "          const dataTable =\n",
              "            await google.colab.kernel.invokeFunction('convertToInteractive',\n",
              "                                                     [key], {});\n",
              "          if (!dataTable) return;\n",
              "\n",
              "          const docLinkHtml = 'Like what you see? Visit the ' +\n",
              "            '<a target=\"_blank\" href=https://colab.research.google.com/notebooks/data_table.ipynb>data table notebook</a>'\n",
              "            + ' to learn more about interactive tables.';\n",
              "          element.innerHTML = '';\n",
              "          dataTable['output_type'] = 'display_data';\n",
              "          await google.colab.output.renderOutput(dataTable, element);\n",
              "          const docLink = document.createElement('div');\n",
              "          docLink.innerHTML = docLinkHtml;\n",
              "          element.appendChild(docLink);\n",
              "        }\n",
              "      </script>\n",
              "    </div>\n",
              "  </div>\n",
              "  "
            ],
            "text/plain": [
              "           model_name  num_model_params  validation_accuracy\n",
              "18  InceptionResNetV2          54339810             0.945455\n",
              "30         ResNet50V2          23568898             0.927273\n",
              "1         DenseNet169          12646210             0.890909\n",
              "19        InceptionV3          21806882             0.872727\n",
              "21        MobileNetV2           2260546             0.872727\n",
              "26        ResNet101V2          42630658             0.872727\n",
              "33           Xception          20865578             0.836364\n",
              "17    EfficientNetV2S          20333922             0.818182\n",
              "31              VGG16          14715714             0.818182\n",
              "14   EfficientNetV2B3          12933696             0.818182\n",
              "6      EfficientNetB3          10786609             0.818182\n",
              "13   EfficientNetV2B2           8772192             0.818182\n",
              "12   EfficientNetV2B1           6933686             0.818182\n",
              "4      EfficientNetB1           6577801             0.818182\n",
              "27          ResNet152          58375042             0.818182\n",
              "16    EfficientNetV2M          53152950             0.800000\n",
              "29           ResNet50          23591810             0.763636\n",
              "20          MobileNet           3230914             0.690909\n",
              "24       NASNetMobile           4271830             0.654545\n",
              "15    EfficientNetV2L         117749410             0.654545\n",
              "28        ResNet152V2          58335746             0.618182\n",
              "0         DenseNet121           7039554             0.545455\n",
              "2         DenseNet201          18325826             0.381818\n",
              "32              VGG19          20025410             0.181818\n",
              "8      EfficientNetB5          28517625             0.181818\n",
              "9      EfficientNetB6          40964753             0.181818\n",
              "7      EfficientNetB4          17677409             0.181818\n",
              "25          ResNet101          42662274             0.181818\n",
              "5      EfficientNetB2           7771387             0.181818\n",
              "11   EfficientNetV2B0           5921874             0.181818\n",
              "3      EfficientNetB0           4052133             0.181818\n",
              "22   MobileNetV3Large           2998274             0.181818\n",
              "10     EfficientNetB7          64102809             0.181818\n",
              "23   MobileNetV3Small            940274             0.181818"
            ]
          },
          "metadata": {},
          "execution_count": 29
        }
      ]
    },
    {
      "cell_type": "markdown",
      "source": [
        "## Working Specific Model"
      ],
      "metadata": {
        "id": "bWF1T79_43T7"
      }
    },
    {
      "cell_type": "code",
      "source": [
        "model = Custom_Model('InceptionResNetV2',(224,224),nm_classes)"
      ],
      "metadata": {
        "id": "aUbzyKDSPmCZ"
      },
      "execution_count": null,
      "outputs": []
    },
    {
      "cell_type": "code",
      "source": [
        "model = model.forward()"
      ],
      "metadata": {
        "id": "Xcn8dk9zj3vf"
      },
      "execution_count": null,
      "outputs": []
    },
    {
      "cell_type": "code",
      "source": [
        "earlystopping = EarlyStopping(monitor='accuracy', mode='max', verbose=1, patience=20,min_delta=0.001)\n",
        "\n",
        "checkpointer = ModelCheckpoint(filepath=\"/content/drive/MyDrive/Automated_Image_Classification/first_training.hdf5\", verbose=1, save_best_only=True)"
      ],
      "metadata": {
        "id": "zCvYMJNJ0m3s"
      },
      "execution_count": null,
      "outputs": []
    },
    {
      "cell_type": "code",
      "source": [
        "base_learning_rate = 0.001\n",
        "model.compile(optimizer=tf.keras.optimizers.Adam(learning_rate=base_learning_rate),\n",
        "              loss='binary_crossentropy',\n",
        "              metrics=['accuracy'])"
      ],
      "metadata": {
        "id": "wjPtM9XwXahJ"
      },
      "execution_count": null,
      "outputs": []
    },
    {
      "cell_type": "code",
      "source": [
        "model.summary()"
      ],
      "metadata": {
        "colab": {
          "base_uri": "https://localhost:8080/"
        },
        "id": "9RWay5gNqxGY",
        "outputId": "7277749e-66ae-4a0f-bcd5-980b2a05f90c"
      },
      "execution_count": null,
      "outputs": [
        {
          "output_type": "stream",
          "name": "stdout",
          "text": [
            "Model: \"model_35\"\n",
            "_________________________________________________________________\n",
            " Layer (type)                Output Shape              Param #   \n",
            "=================================================================\n",
            " input_72 (InputLayer)       [(None, 224, 224, 3)]     0         \n",
            "                                                                 \n",
            " inception_resnet_v2 (Functi  (None, 5, 5, 1536)       54336736  \n",
            " onal)                                                           \n",
            "                                                                 \n",
            " global_average_pooling2d_35  (None, 1536)             0         \n",
            "  (GlobalAveragePooling2D)                                       \n",
            "                                                                 \n",
            " dense_35 (Dense)            (None, 2)                 3074      \n",
            "                                                                 \n",
            "=================================================================\n",
            "Total params: 54,339,810\n",
            "Trainable params: 3,074\n",
            "Non-trainable params: 54,336,736\n",
            "_________________________________________________________________\n"
          ]
        }
      ]
    },
    {
      "cell_type": "code",
      "source": [
        "history = model.fit(train_generator,epochs=50,validation_data=val_generator,class_weight=class_weights, callbacks=[checkpointer, earlystopping])"
      ],
      "metadata": {
        "colab": {
          "base_uri": "https://localhost:8080/"
        },
        "id": "HXejfen2EEmG",
        "outputId": "5a68795d-0903-49bb-97c9-565a5e07d798"
      },
      "execution_count": null,
      "outputs": [
        {
          "output_type": "stream",
          "name": "stdout",
          "text": [
            "Epoch 1/50\n",
            "10/10 [==============================] - ETA: 0s - loss: 0.7417 - accuracy: 0.5377\n",
            "Epoch 1: val_loss improved from inf to 0.59102, saving model to /content/drive/MyDrive/Automated_Image_Classification/first_training.hdf5\n",
            "10/10 [==============================] - 25s 2s/step - loss: 0.7417 - accuracy: 0.5377 - val_loss: 0.5910 - val_accuracy: 0.8727\n",
            "Epoch 2/50\n",
            "10/10 [==============================] - ETA: 0s - loss: 0.3679 - accuracy: 0.9182\n",
            "Epoch 2: val_loss improved from 0.59102 to 0.35634, saving model to /content/drive/MyDrive/Automated_Image_Classification/first_training.hdf5\n",
            "10/10 [==============================] - 8s 753ms/step - loss: 0.3679 - accuracy: 0.9182 - val_loss: 0.3563 - val_accuracy: 0.8909\n",
            "Epoch 3/50\n",
            "10/10 [==============================] - ETA: 0s - loss: 0.2069 - accuracy: 0.9623\n",
            "Epoch 3: val_loss improved from 0.35634 to 0.22828, saving model to /content/drive/MyDrive/Automated_Image_Classification/first_training.hdf5\n",
            "10/10 [==============================] - 7s 752ms/step - loss: 0.2069 - accuracy: 0.9623 - val_loss: 0.2283 - val_accuracy: 0.9273\n",
            "Epoch 4/50\n",
            "10/10 [==============================] - ETA: 0s - loss: 0.1473 - accuracy: 0.9623\n",
            "Epoch 4: val_loss improved from 0.22828 to 0.18328, saving model to /content/drive/MyDrive/Automated_Image_Classification/first_training.hdf5\n",
            "10/10 [==============================] - 7s 742ms/step - loss: 0.1473 - accuracy: 0.9623 - val_loss: 0.1833 - val_accuracy: 0.9273\n",
            "Epoch 5/50\n",
            "10/10 [==============================] - ETA: 0s - loss: 0.1292 - accuracy: 0.9686\n",
            "Epoch 5: val_loss improved from 0.18328 to 0.14538, saving model to /content/drive/MyDrive/Automated_Image_Classification/first_training.hdf5\n",
            "10/10 [==============================] - 7s 747ms/step - loss: 0.1292 - accuracy: 0.9686 - val_loss: 0.1454 - val_accuracy: 0.9455\n",
            "Epoch 6/50\n",
            "10/10 [==============================] - ETA: 0s - loss: 0.0922 - accuracy: 0.9780\n",
            "Epoch 6: val_loss improved from 0.14538 to 0.11252, saving model to /content/drive/MyDrive/Automated_Image_Classification/first_training.hdf5\n",
            "10/10 [==============================] - 7s 746ms/step - loss: 0.0922 - accuracy: 0.9780 - val_loss: 0.1125 - val_accuracy: 0.9636\n",
            "Epoch 7/50\n",
            "10/10 [==============================] - ETA: 0s - loss: 0.0838 - accuracy: 0.9811\n",
            "Epoch 7: val_loss improved from 0.11252 to 0.10861, saving model to /content/drive/MyDrive/Automated_Image_Classification/first_training.hdf5\n",
            "10/10 [==============================] - 8s 774ms/step - loss: 0.0838 - accuracy: 0.9811 - val_loss: 0.1086 - val_accuracy: 0.9636\n",
            "Epoch 8/50\n",
            "10/10 [==============================] - ETA: 0s - loss: 0.0802 - accuracy: 0.9748\n",
            "Epoch 8: val_loss improved from 0.10861 to 0.09703, saving model to /content/drive/MyDrive/Automated_Image_Classification/first_training.hdf5\n",
            "10/10 [==============================] - 8s 825ms/step - loss: 0.0802 - accuracy: 0.9748 - val_loss: 0.0970 - val_accuracy: 0.9818\n",
            "Epoch 9/50\n",
            "10/10 [==============================] - ETA: 0s - loss: 0.0678 - accuracy: 0.9937\n",
            "Epoch 9: val_loss did not improve from 0.09703\n",
            "10/10 [==============================] - 6s 576ms/step - loss: 0.0678 - accuracy: 0.9937 - val_loss: 0.1009 - val_accuracy: 0.9818\n",
            "Epoch 10/50\n",
            "10/10 [==============================] - ETA: 0s - loss: 0.0654 - accuracy: 0.9843\n",
            "Epoch 10: val_loss improved from 0.09703 to 0.09045, saving model to /content/drive/MyDrive/Automated_Image_Classification/first_training.hdf5\n",
            "10/10 [==============================] - 8s 779ms/step - loss: 0.0654 - accuracy: 0.9843 - val_loss: 0.0905 - val_accuracy: 0.9818\n",
            "Epoch 11/50\n",
            "10/10 [==============================] - ETA: 0s - loss: 0.0574 - accuracy: 0.9906\n",
            "Epoch 11: val_loss improved from 0.09045 to 0.07323, saving model to /content/drive/MyDrive/Automated_Image_Classification/first_training.hdf5\n",
            "10/10 [==============================] - 7s 744ms/step - loss: 0.0574 - accuracy: 0.9906 - val_loss: 0.0732 - val_accuracy: 0.9818\n",
            "Epoch 12/50\n",
            "10/10 [==============================] - ETA: 0s - loss: 0.0626 - accuracy: 0.9748\n",
            "Epoch 12: val_loss improved from 0.07323 to 0.06735, saving model to /content/drive/MyDrive/Automated_Image_Classification/first_training.hdf5\n",
            "10/10 [==============================] - 7s 743ms/step - loss: 0.0626 - accuracy: 0.9748 - val_loss: 0.0673 - val_accuracy: 0.9818\n",
            "Epoch 13/50\n",
            "10/10 [==============================] - ETA: 0s - loss: 0.0630 - accuracy: 0.9874\n",
            "Epoch 13: val_loss did not improve from 0.06735\n",
            "10/10 [==============================] - 6s 577ms/step - loss: 0.0630 - accuracy: 0.9874 - val_loss: 0.0945 - val_accuracy: 0.9636\n",
            "Epoch 14/50\n",
            "10/10 [==============================] - ETA: 0s - loss: 0.0485 - accuracy: 0.9811\n",
            "Epoch 14: val_loss did not improve from 0.06735\n",
            "10/10 [==============================] - 6s 591ms/step - loss: 0.0485 - accuracy: 0.9811 - val_loss: 0.0765 - val_accuracy: 0.9818\n",
            "Epoch 15/50\n",
            "10/10 [==============================] - ETA: 0s - loss: 0.0529 - accuracy: 0.9874\n",
            "Epoch 15: val_loss did not improve from 0.06735\n",
            "10/10 [==============================] - 6s 570ms/step - loss: 0.0529 - accuracy: 0.9874 - val_loss: 0.0743 - val_accuracy: 0.9818\n",
            "Epoch 16/50\n",
            "10/10 [==============================] - ETA: 0s - loss: 0.0380 - accuracy: 0.9937\n",
            "Epoch 16: val_loss improved from 0.06735 to 0.06556, saving model to /content/drive/MyDrive/Automated_Image_Classification/first_training.hdf5\n",
            "10/10 [==============================] - 9s 910ms/step - loss: 0.0380 - accuracy: 0.9937 - val_loss: 0.0656 - val_accuracy: 0.9818\n",
            "Epoch 17/50\n",
            "10/10 [==============================] - ETA: 0s - loss: 0.0538 - accuracy: 0.9843\n",
            "Epoch 17: val_loss improved from 0.06556 to 0.05831, saving model to /content/drive/MyDrive/Automated_Image_Classification/first_training.hdf5\n",
            "10/10 [==============================] - 7s 751ms/step - loss: 0.0538 - accuracy: 0.9843 - val_loss: 0.0583 - val_accuracy: 0.9818\n",
            "Epoch 18/50\n",
            "10/10 [==============================] - ETA: 0s - loss: 0.0445 - accuracy: 0.9969\n",
            "Epoch 18: val_loss did not improve from 0.05831\n",
            "10/10 [==============================] - 6s 581ms/step - loss: 0.0445 - accuracy: 0.9969 - val_loss: 0.0701 - val_accuracy: 0.9818\n",
            "Epoch 19/50\n",
            "10/10 [==============================] - ETA: 0s - loss: 0.0385 - accuracy: 0.9937\n",
            "Epoch 19: val_loss did not improve from 0.05831\n",
            "10/10 [==============================] - 6s 592ms/step - loss: 0.0385 - accuracy: 0.9937 - val_loss: 0.0629 - val_accuracy: 0.9818\n",
            "Epoch 20/50\n",
            "10/10 [==============================] - ETA: 0s - loss: 0.0391 - accuracy: 0.9937\n",
            "Epoch 20: val_loss improved from 0.05831 to 0.05167, saving model to /content/drive/MyDrive/Automated_Image_Classification/first_training.hdf5\n",
            "10/10 [==============================] - 9s 885ms/step - loss: 0.0391 - accuracy: 0.9937 - val_loss: 0.0517 - val_accuracy: 0.9818\n",
            "Epoch 21/50\n",
            "10/10 [==============================] - ETA: 0s - loss: 0.0402 - accuracy: 0.9874\n",
            "Epoch 21: val_loss did not improve from 0.05167\n",
            "10/10 [==============================] - 6s 577ms/step - loss: 0.0402 - accuracy: 0.9874 - val_loss: 0.0521 - val_accuracy: 0.9818\n",
            "Epoch 22/50\n",
            "10/10 [==============================] - ETA: 0s - loss: 0.0277 - accuracy: 0.9969\n",
            "Epoch 22: val_loss improved from 0.05167 to 0.04680, saving model to /content/drive/MyDrive/Automated_Image_Classification/first_training.hdf5\n",
            "10/10 [==============================] - 8s 826ms/step - loss: 0.0277 - accuracy: 0.9969 - val_loss: 0.0468 - val_accuracy: 0.9818\n",
            "Epoch 23/50\n",
            "10/10 [==============================] - ETA: 0s - loss: 0.0352 - accuracy: 0.9874\n",
            "Epoch 23: val_loss improved from 0.04680 to 0.04126, saving model to /content/drive/MyDrive/Automated_Image_Classification/first_training.hdf5\n",
            "10/10 [==============================] - 7s 734ms/step - loss: 0.0352 - accuracy: 0.9874 - val_loss: 0.0413 - val_accuracy: 0.9818\n",
            "Epoch 24/50\n",
            "10/10 [==============================] - ETA: 0s - loss: 0.0367 - accuracy: 0.9937\n",
            "Epoch 24: val_loss did not improve from 0.04126\n",
            "10/10 [==============================] - 6s 573ms/step - loss: 0.0367 - accuracy: 0.9937 - val_loss: 0.0457 - val_accuracy: 0.9818\n",
            "Epoch 25/50\n",
            "10/10 [==============================] - ETA: 0s - loss: 0.0370 - accuracy: 0.9937\n",
            "Epoch 25: val_loss did not improve from 0.04126\n",
            "10/10 [==============================] - 6s 594ms/step - loss: 0.0370 - accuracy: 0.9937 - val_loss: 0.0533 - val_accuracy: 0.9818\n",
            "Epoch 26/50\n",
            "10/10 [==============================] - ETA: 0s - loss: 0.0380 - accuracy: 0.9937\n",
            "Epoch 26: val_loss did not improve from 0.04126\n",
            "10/10 [==============================] - 6s 560ms/step - loss: 0.0380 - accuracy: 0.9937 - val_loss: 0.0558 - val_accuracy: 0.9818\n",
            "Epoch 27/50\n",
            "10/10 [==============================] - ETA: 0s - loss: 0.0334 - accuracy: 0.9969\n",
            "Epoch 27: val_loss improved from 0.04126 to 0.03864, saving model to /content/drive/MyDrive/Automated_Image_Classification/first_training.hdf5\n",
            "10/10 [==============================] - 9s 906ms/step - loss: 0.0334 - accuracy: 0.9969 - val_loss: 0.0386 - val_accuracy: 0.9818\n",
            "Epoch 28/50\n",
            "10/10 [==============================] - ETA: 0s - loss: 0.0325 - accuracy: 0.9937\n",
            "Epoch 28: val_loss improved from 0.03864 to 0.03808, saving model to /content/drive/MyDrive/Automated_Image_Classification/first_training.hdf5\n",
            "10/10 [==============================] - 7s 744ms/step - loss: 0.0325 - accuracy: 0.9937 - val_loss: 0.0381 - val_accuracy: 0.9818\n",
            "Epoch 29/50\n",
            "10/10 [==============================] - ETA: 0s - loss: 0.0340 - accuracy: 0.9969\n",
            "Epoch 29: val_loss improved from 0.03808 to 0.03680, saving model to /content/drive/MyDrive/Automated_Image_Classification/first_training.hdf5\n",
            "10/10 [==============================] - 7s 738ms/step - loss: 0.0340 - accuracy: 0.9969 - val_loss: 0.0368 - val_accuracy: 0.9818\n",
            "Epoch 30/50\n",
            "10/10 [==============================] - ETA: 0s - loss: 0.0282 - accuracy: 0.9969\n",
            "Epoch 30: val_loss improved from 0.03680 to 0.03448, saving model to /content/drive/MyDrive/Automated_Image_Classification/first_training.hdf5\n",
            "10/10 [==============================] - 7s 738ms/step - loss: 0.0282 - accuracy: 0.9969 - val_loss: 0.0345 - val_accuracy: 0.9818\n",
            "Epoch 31/50\n",
            "10/10 [==============================] - ETA: 0s - loss: 0.0292 - accuracy: 0.9874\n",
            "Epoch 31: val_loss did not improve from 0.03448\n",
            "10/10 [==============================] - 6s 578ms/step - loss: 0.0292 - accuracy: 0.9874 - val_loss: 0.0370 - val_accuracy: 0.9818\n",
            "Epoch 32/50\n",
            "10/10 [==============================] - ETA: 0s - loss: 0.0275 - accuracy: 0.9906\n",
            "Epoch 32: val_loss improved from 0.03448 to 0.03345, saving model to /content/drive/MyDrive/Automated_Image_Classification/first_training.hdf5\n",
            "10/10 [==============================] - 7s 752ms/step - loss: 0.0275 - accuracy: 0.9906 - val_loss: 0.0335 - val_accuracy: 0.9818\n",
            "Epoch 33/50\n",
            "10/10 [==============================] - ETA: 0s - loss: 0.0410 - accuracy: 0.9937\n",
            "Epoch 33: val_loss did not improve from 0.03345\n",
            "10/10 [==============================] - 6s 566ms/step - loss: 0.0410 - accuracy: 0.9937 - val_loss: 0.0335 - val_accuracy: 1.0000\n",
            "Epoch 34/50\n",
            "10/10 [==============================] - ETA: 0s - loss: 0.0235 - accuracy: 0.9906\n",
            "Epoch 34: val_loss did not improve from 0.03345\n",
            "10/10 [==============================] - 6s 579ms/step - loss: 0.0235 - accuracy: 0.9906 - val_loss: 0.0342 - val_accuracy: 1.0000\n",
            "Epoch 35/50\n",
            "10/10 [==============================] - ETA: 0s - loss: 0.0276 - accuracy: 0.9969\n",
            "Epoch 35: val_loss improved from 0.03345 to 0.03314, saving model to /content/drive/MyDrive/Automated_Image_Classification/first_training.hdf5\n",
            "10/10 [==============================] - 8s 877ms/step - loss: 0.0276 - accuracy: 0.9969 - val_loss: 0.0331 - val_accuracy: 1.0000\n",
            "Epoch 36/50\n",
            "10/10 [==============================] - ETA: 0s - loss: 0.0301 - accuracy: 0.9937\n",
            "Epoch 36: val_loss did not improve from 0.03314\n",
            "10/10 [==============================] - 6s 568ms/step - loss: 0.0301 - accuracy: 0.9937 - val_loss: 0.0363 - val_accuracy: 0.9818\n",
            "Epoch 37/50\n",
            "10/10 [==============================] - ETA: 0s - loss: 0.0244 - accuracy: 0.9937\n",
            "Epoch 37: val_loss improved from 0.03314 to 0.02365, saving model to /content/drive/MyDrive/Automated_Image_Classification/first_training.hdf5\n",
            "10/10 [==============================] - 7s 753ms/step - loss: 0.0244 - accuracy: 0.9937 - val_loss: 0.0237 - val_accuracy: 1.0000\n",
            "Epoch 38/50\n",
            "10/10 [==============================] - ETA: 0s - loss: 0.0255 - accuracy: 0.9937\n",
            "Epoch 38: val_loss did not improve from 0.02365\n",
            "10/10 [==============================] - 6s 572ms/step - loss: 0.0255 - accuracy: 0.9937 - val_loss: 0.0283 - val_accuracy: 1.0000\n",
            "Epoch 38: early stopping\n"
          ]
        }
      ]
    },
    {
      "cell_type": "markdown",
      "source": [
        "## Metrics Visualization"
      ],
      "metadata": {
        "id": "RFvbNrSemR4M"
      }
    },
    {
      "cell_type": "code",
      "source": [
        "def metrics_visualization(history):\n",
        "    acc = history.history['accuracy']\n",
        "    val_acc = history.history['val_accuracy']\n",
        "\n",
        "    loss = history.history['loss']\n",
        "    val_loss = history.history['val_loss']\n",
        "\n",
        "    plt.figure(figsize=(8, 8))\n",
        "    plt.subplot(2, 1, 1)\n",
        "    plt.plot(acc, label='Training Accuracy')\n",
        "    plt.plot(val_acc, label='Validation Accuracy')\n",
        "    plt.legend(loc='lower right')\n",
        "    plt.ylabel('Accuracy')\n",
        "    plt.ylim([min(plt.ylim()), 1])\n",
        "    plt.title('Training and Validation Accuracy')\n",
        "\n",
        "    plt.subplot(2, 1, 2)\n",
        "    plt.plot(loss, label='Training Loss')\n",
        "    plt.plot(val_loss, label='Validation Loss')\n",
        "    plt.legend(loc='upper right')\n",
        "    plt.ylabel('Cross Entropy')\n",
        "    plt.ylim([0, 1.0])\n",
        "    plt.title('Training and Validation Loss')\n",
        "    plt.xlabel('epoch')\n",
        "\n",
        "    return plt.show()"
      ],
      "metadata": {
        "id": "VuZB_NjKmWQ5"
      },
      "execution_count": null,
      "outputs": []
    },
    {
      "cell_type": "code",
      "source": [
        "metrics_visualization(history)"
      ],
      "metadata": {
        "id": "t-KP61a3INY2",
        "colab": {
          "base_uri": "https://localhost:8080/",
          "height": 513
        },
        "outputId": "9656a5bd-6001-46f0-9966-9c9b0a995403"
      },
      "execution_count": null,
      "outputs": [
        {
          "output_type": "display_data",
          "data": {
            "image/png": "[encoded data removed]",
            "text/plain": [
              "<Figure size 576x576 with 2 Axes>"
            ]
          },
          "metadata": {
            "needs_background": "light"
          }
        }
      ]
    },
    {
      "cell_type": "markdown",
      "source": [
        "## Evaluation and Prediction\n"
      ],
      "metadata": {
        "id": "YlaU2hBB6T_r"
      }
    },
    {
      "cell_type": "code",
      "source": [
        "def plot_cm(labels, predictions, p=0.5):\n",
        "  cm = confusion_matrix(labels, predictions > p)\n",
        "  plt.figure(figsize=(5,5))\n",
        "  sns.heatmap(cm, annot=True, fmt=\"d\")\n",
        "  plt.title('Confusion matrix @{:.2f}'.format(p))\n",
        "  plt.ylabel('Actual label')\n",
        "  plt.xlabel('Predicted label')\n",
        "\n",
        "  print('Legitimate Transactions Detected (True Negatives): ', cm[0][0])\n",
        "  print('Legitimate Transactions Incorrectly Detected (False Positives): ', cm[0][1])\n",
        "  print('Fraudulent Transactions Missed (False Negatives): ', cm[1][0])\n",
        "  print('Fraudulent Transactions Detected (True Positives): ', cm[1][1])\n",
        "  print('Total Fraudulent Transactions: ', np.sum(cm[1]))\n",
        "\n",
        "  print(\"_______________________________________________________________________\")\n",
        "  print(classification_report(labels, predictions))\n",
        "\n",
        "  return plt.show"
      ],
      "metadata": {
        "id": "fpmjZkbRmfzw"
      },
      "execution_count": null,
      "outputs": []
    },
    {
      "cell_type": "code",
      "source": [
        "y_true = test_generator.classes\n",
        "predict = model.predict_generator(test_generator)\n",
        "y_pred = np.argmax(predict, axis = 1)"
      ],
      "metadata": {
        "colab": {
          "base_uri": "https://localhost:8080/"
        },
        "id": "w9cRaw8c-aEw",
        "outputId": "116f3045-fe21-4a1d-bebb-4dc6e349c041"
      },
      "execution_count": null,
      "outputs": [
        {
          "output_type": "stream",
          "name": "stderr",
          "text": [
            "/usr/local/lib/python3.7/dist-packages/ipykernel_launcher.py:2: UserWarning: `Model.predict_generator` is deprecated and will be removed in a future version. Please use `Model.predict`, which supports generators.\n",
            "  \n"
          ]
        }
      ]
    },
    {
      "cell_type": "code",
      "source": [
        "# plotting confusion matrix and classfication report\n",
        "plot_cm(y_true,y_pred)"
      ],
      "metadata": {
        "id": "cMKW93pg3-ZQ",
        "colab": {
          "base_uri": "https://localhost:8080/",
          "height": 627
        },
        "outputId": "4a807e65-1d2b-46d3-84f8-ef7611e54bae"
      },
      "execution_count": null,
      "outputs": [
        {
          "output_type": "stream",
          "name": "stdout",
          "text": [
            "Legitimate Transactions Detected (True Negatives):  25\n",
            "Legitimate Transactions Incorrectly Detected (False Positives):  0\n",
            "Fraudulent Transactions Missed (False Negatives):  0\n",
            "Fraudulent Transactions Detected (True Positives):  6\n",
            "Total Fraudulent Transactions:  6\n",
            "_______________________________________________________________________\n",
            "              precision    recall  f1-score   support\n",
            "\n",
            "           0       1.00      1.00      1.00        25\n",
            "           1       1.00      1.00      1.00         6\n",
            "\n",
            "    accuracy                           1.00        31\n",
            "   macro avg       1.00      1.00      1.00        31\n",
            "weighted avg       1.00      1.00      1.00        31\n",
            "\n"
          ]
        },
        {
          "output_type": "execute_result",
          "data": {
            "text/plain": [
              "<function matplotlib.pyplot.show>"
            ]
          },
          "metadata": {},
          "execution_count": 40
        },
        {
          "output_type": "display_data",
          "data": {
            "image/png": "[encoded data removed]",
            "text/plain": [
              "<Figure size 360x360 with 2 Axes>"
            ]
          },
          "metadata": {
            "needs_background": "light"
          }
        }
      ]
    },
    {
      "cell_type": "code",
      "source": [
        ""
      ],
      "metadata": {
        "id": "sJKEo4gCJGM6"
      },
      "execution_count": null,
      "outputs": []
    }
  ]
}